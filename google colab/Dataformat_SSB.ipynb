{
  "nbformat": 4,
  "nbformat_minor": 0,
  "metadata": {
    "colab": {
      "name": "Dataformat SSB.ipynb",
      "provenance": [],
      "collapsed_sections": [
        "bdlgjsP5dMvt",
        "keVPk3pVRcO5",
        "m8dSQ9iuVtJa",
        "MauiO6plMTMT",
        "Sg9ci2AezqHN",
        "QvLTUWEY3PF9",
        "Jhzni0igNO3T",
        "RQt93RJtV6yf",
        "FaZwH9_FV3Jc",
        "EHJHxXMWVjgg",
        "NKSGcrZq4KQ7",
        "XwKEcQMP4N6z",
        "cUG3XP3AN0rH",
        "2IvWPPdf9QH0",
        "roa43UVk9cdF",
        "hmhT-8ID9g3x",
        "uA9mVfViogH8",
        "JM9_03hZ-5xp",
        "D_6Wr9cW_2QH",
        "U85FianFBNPa",
        "pzZ68CJZCaX2",
        "g-hFFB90UYcO"
      ],
      "toc_visible": true
    },
    "kernelspec": {
      "name": "python3",
      "display_name": "Python 3"
    }
  },
  "cells": [
    {
      "cell_type": "markdown",
      "metadata": {
        "id": "S0uKduruHkBC"
      },
      "source": [
        "# **GET DATA AND CREATE CSV FILES OF THE DATA**"
      ]
    },
    {
      "cell_type": "code",
      "metadata": {
        "id": "UDthuYGufUXr",
        "outputId": "a4cc74b7-cbd7-4eb2-85be-d893aada4707",
        "colab": {
          "base_uri": "https://localhost:8080/",
          "height": 222
        }
      },
      "source": [
        "pip install pyjstat"
      ],
      "execution_count": null,
      "outputs": [
        {
          "output_type": "stream",
          "text": [
            "Requirement already satisfied: pyjstat in /usr/local/lib/python3.6/dist-packages (2.2.0)\n",
            "Requirement already satisfied: requests in /usr/local/lib/python3.6/dist-packages (from pyjstat) (2.23.0)\n",
            "Requirement already satisfied: pandas in /usr/local/lib/python3.6/dist-packages (from pyjstat) (1.1.2)\n",
            "Requirement already satisfied: urllib3!=1.25.0,!=1.25.1,<1.26,>=1.21.1 in /usr/local/lib/python3.6/dist-packages (from requests->pyjstat) (1.24.3)\n",
            "Requirement already satisfied: chardet<4,>=3.0.2 in /usr/local/lib/python3.6/dist-packages (from requests->pyjstat) (3.0.4)\n",
            "Requirement already satisfied: idna<3,>=2.5 in /usr/local/lib/python3.6/dist-packages (from requests->pyjstat) (2.10)\n",
            "Requirement already satisfied: certifi>=2017.4.17 in /usr/local/lib/python3.6/dist-packages (from requests->pyjstat) (2020.6.20)\n",
            "Requirement already satisfied: numpy>=1.15.4 in /usr/local/lib/python3.6/dist-packages (from pandas->pyjstat) (1.18.5)\n",
            "Requirement already satisfied: python-dateutil>=2.7.3 in /usr/local/lib/python3.6/dist-packages (from pandas->pyjstat) (2.8.1)\n",
            "Requirement already satisfied: pytz>=2017.2 in /usr/local/lib/python3.6/dist-packages (from pandas->pyjstat) (2018.9)\n",
            "Requirement already satisfied: six>=1.5 in /usr/local/lib/python3.6/dist-packages (from python-dateutil>=2.7.3->pandas->pyjstat) (1.15.0)\n"
          ],
          "name": "stdout"
        }
      ]
    },
    {
      "cell_type": "code",
      "metadata": {
        "id": "RMZb6oOIkWSR"
      },
      "source": [
        "import matplotlib.pyplot as plt\n",
        "import requests\n",
        "import pandas as pd\n",
        "from pyjstat import pyjstat\n",
        "import json"
      ],
      "execution_count": null,
      "outputs": []
    },
    {
      "cell_type": "markdown",
      "metadata": {
        "id": "fnU1Sb_29-44"
      },
      "source": [
        "# **Get Data**"
      ]
    },
    {
      "cell_type": "markdown",
      "metadata": {
        "id": "bdlgjsP5dMvt"
      },
      "source": [
        "## **Functions**"
      ]
    },
    {
      "cell_type": "markdown",
      "metadata": {
        "id": "6fpedgkk1hGS"
      },
      "source": [
        "Get data and return dataframe"
      ]
    },
    {
      "cell_type": "code",
      "metadata": {
        "id": "429MkRBGN0CK"
      },
      "source": [
        "def create_csv_of_data(url, payload, name_of_csv_file):\n",
        "\n",
        "  result = requests.post(url, json=payload)\n",
        "  dataset = pyjstat.Dataset.read(result.text)\n",
        "  df = dataset.write('dataframe')\n",
        "  df.head()\n",
        "  df.tail()\n",
        "  df.info()\n",
        "\n",
        "  df.to_csv(name_of_csv_file)\n",
        "\n",
        "  return 'Data is downloaded and put in csv file'\n"
      ],
      "execution_count": null,
      "outputs": []
    },
    {
      "cell_type": "code",
      "metadata": {
        "id": "J4v49kLQ1fon"
      },
      "source": [
        "def remove_character(data_set):\n",
        "  char_list = ['¬¬','¬', \"'\"]\n",
        "\n",
        "  for i in char_list:\n",
        "    for j in data_set:\n",
        "      if i in data_set[j]:\n",
        "        data_set[j] = data_set[j].str.replace(i, '')\n",
        "      else:\n",
        "        continue\n",
        "  return data_set"
      ],
      "execution_count": null,
      "outputs": []
    },
    {
      "cell_type": "markdown",
      "metadata": {
        "id": "keVPk3pVRcO5"
      },
      "source": [
        "## **lovbrudd-08485.csv**"
      ]
    },
    {
      "cell_type": "markdown",
      "metadata": {
        "id": "m8dSQ9iuVtJa"
      },
      "source": [
        "### **payload_08485**"
      ]
    },
    {
      "cell_type": "code",
      "metadata": {
        "id": "zF8JjsG2Rkxp"
      },
      "source": [
        "payload_08485 = {\n",
        "  \"query\": [\n",
        "    {\n",
        "      \"code\": \"Region\",\n",
        "      \"selection\": {\n",
        "        \"filter\": \"item\",\n",
        "        \"values\": [\n",
        "          \"P01\"\n",
        "        \n",
        "        ]\n",
        "      }\n",
        "    },\n",
        "    {\n",
        "      \"code\": \"LovbruddKrim\",\n",
        "      \"selection\": {\n",
        "        \"filter\": \"all\",\n",
        "        \"values\": [\n",
        "          \"*\"\n",
        "        ]\n",
        "      }\n",
        "    },\n",
        "    {\n",
        "      \"code\": \"ContentsCode\",\n",
        "      \"selection\": {\n",
        "        \"filter\": \"all\",\n",
        "        \"values\": [\n",
        "          \"*\"\n",
        "        ]\n",
        "      }\n",
        "    },\n",
        "    {\n",
        "      \"code\": \"Tid\",\n",
        "      \"selection\": {\n",
        "        \"filter\": \"all\",\n",
        "        \"values\": [\n",
        "          \"*\"\n",
        "        ]\n",
        "      }\n",
        "    }\n",
        "  ],\n",
        "  \"response\": {\n",
        "    \"format\": \"json-stat2\"\n",
        "  }\n",
        "}\n",
        "\n"
      ],
      "execution_count": null,
      "outputs": []
    },
    {
      "cell_type": "markdown",
      "metadata": {
        "id": "X-4AdWbqVw2h"
      },
      "source": [
        "### **Prep.**"
      ]
    },
    {
      "cell_type": "code",
      "metadata": {
        "id": "ILPPIsjMR7Hd",
        "outputId": "e5d165fd-4af5-4955-e587-968bda25c765",
        "colab": {
          "base_uri": "https://localhost:8080/",
          "height": 239
        }
      },
      "source": [
        "create_csv_of_data('https://data.ssb.no/api/v0/no/table/08485', payload_08485, 'lovbrudd-08485.csv')"
      ],
      "execution_count": null,
      "outputs": [
        {
          "output_type": "stream",
          "text": [
            "<class 'pandas.core.frame.DataFrame'>\n",
            "RangeIndex: 864 entries, 0 to 863\n",
            "Data columns (total 5 columns):\n",
            " #   Column              Non-Null Count  Dtype  \n",
            "---  ------              --------------  -----  \n",
            " 0   region              864 non-null    object \n",
            " 1   lovbruddstype       864 non-null    object \n",
            " 2   statistikkvariabel  864 non-null    object \n",
            " 3   år                  864 non-null    object \n",
            " 4   value               384 non-null    float64\n",
            "dtypes: float64(1), object(4)\n",
            "memory usage: 33.9+ KB\n"
          ],
          "name": "stdout"
        },
        {
          "output_type": "execute_result",
          "data": {
            "application/vnd.google.colaboratory.intrinsic+json": {
              "type": "string"
            },
            "text/plain": [
              "'Data is downloaded and put in csv file'"
            ]
          },
          "metadata": {
            "tags": []
          },
          "execution_count": 15
        }
      ]
    },
    {
      "cell_type": "code",
      "metadata": {
        "id": "TIpREDIVSBhD"
      },
      "source": [
        "lovbrudd_08485_df = pd.read_csv(r'./lovbrudd-08485.csv')"
      ],
      "execution_count": null,
      "outputs": []
    },
    {
      "cell_type": "code",
      "metadata": {
        "id": "2xPyhH6nSyTX"
      },
      "source": [
        "lovbrudd_08485_df['lovbruddstype'] = lovbrudd_08485_df['lovbruddstype'].str.replace('¬¬', '')\n",
        "lovbrudd_08485_df['lovbruddstype'] = lovbrudd_08485_df['lovbruddstype'].str.replace('¬', '')\n",
        "lovbrudd_08485_df['lovbruddstype'] = lovbrudd_08485_df['lovbruddstype'].str.replace(\"'\", '')\n",
        "\n",
        "lovbrudd_08485_df = lovbrudd_08485_df.fillna(0)\n",
        "del lovbrudd_08485_df['Unnamed: 0']"
      ],
      "execution_count": null,
      "outputs": []
    },
    {
      "cell_type": "code",
      "metadata": {
        "id": "jlcyASEucqFn"
      },
      "source": [
        "lovbrudd_08485_df.to_csv('./Done files/lovbrudd_08485.csv',encoding='utf-8', sep=',', index=False)"
      ],
      "execution_count": null,
      "outputs": []
    },
    {
      "cell_type": "markdown",
      "metadata": {
        "id": "MauiO6plMTMT"
      },
      "source": [
        "## **lovbrudd-09405.csv**"
      ]
    },
    {
      "cell_type": "markdown",
      "metadata": {
        "id": "Sg9ci2AezqHN"
      },
      "source": [
        "### **payload_09405**"
      ]
    },
    {
      "cell_type": "code",
      "metadata": {
        "id": "tzFhxcOtbhse"
      },
      "source": [
        "payload_09405 = {\n",
        "  \"query\": [\n",
        "    {\n",
        "      \"code\": \"LovbruddKrim\",\n",
        "      \"selection\": {\n",
        "        \"filter\": \"all\",\n",
        "        \"values\": [\n",
        "          \"*\"\n",
        "        ]\n",
        "      }\n",
        "    },\n",
        "    {\n",
        "      \"code\": \"PolitiAvgjorelse\",\n",
        "      \"selection\": {\n",
        "        \"filter\": \"item\",\n",
        "        \"values\": [\n",
        "          \"AAA-BZZ\",\n",
        "          \"AAA-AZZ\",\n",
        "          \"AAZ\",\n",
        "          \"BEA\",\n",
        "          \"BZH-BZZ\"\n",
        "        ]\n",
        "      }\n",
        "    },\n",
        "    {\n",
        "      \"code\": \"ContentsCode\",\n",
        "      \"selection\": {\n",
        "        \"filter\": \"all\",\n",
        "        \"values\": [\n",
        "          \"*\"\n",
        "        ]\n",
        "      }\n",
        "    },\n",
        "    {\n",
        "      \"code\": \"Tid\",\n",
        "      \"selection\": {\n",
        "        \"filter\": \"all\",\n",
        "        \"values\": [\n",
        "          \"*\"\n",
        "        ]\n",
        "      }\n",
        "    }\n",
        "  ],\n",
        "  \"response\": {\n",
        "    \"format\": \"json-stat2\"\n",
        "  }\n",
        "}\n",
        "\n"
      ],
      "execution_count": null,
      "outputs": []
    },
    {
      "cell_type": "code",
      "metadata": {
        "id": "Os4TO1eKbWNG",
        "outputId": "a1bb63ef-eb5c-4a69-8a07-ce0a0942bcdc",
        "colab": {
          "base_uri": "https://localhost:8080/"
        }
      },
      "source": [
        "create_csv_of_data('https://data.ssb.no/api/v0/no/table/09405', payload_09405, 'lovbrudd-09405.csv')"
      ],
      "execution_count": null,
      "outputs": [
        {
          "output_type": "stream",
          "text": [
            "<class 'pandas.core.frame.DataFrame'>\n",
            "RangeIndex: 45655 entries, 0 to 45654\n",
            "Data columns (total 5 columns):\n",
            " #   Column                Non-Null Count  Dtype  \n",
            "---  ------                --------------  -----  \n",
            " 0   lovbruddstype         45655 non-null  object \n",
            " 1   politiets avgjørelse  45655 non-null  object \n",
            " 2   statistikkvariabel    45655 non-null  object \n",
            " 3   år                    45655 non-null  object \n",
            " 4   value                 35545 non-null  float64\n",
            "dtypes: float64(1), object(4)\n",
            "memory usage: 1.7+ MB\n"
          ],
          "name": "stdout"
        },
        {
          "output_type": "execute_result",
          "data": {
            "application/vnd.google.colaboratory.intrinsic+json": {
              "type": "string"
            },
            "text/plain": [
              "'Data is downloaded and put in csv file'"
            ]
          },
          "metadata": {
            "tags": []
          },
          "execution_count": 15
        }
      ]
    },
    {
      "cell_type": "markdown",
      "metadata": {
        "id": "QvLTUWEY3PF9"
      },
      "source": [
        "### **Prep**"
      ]
    },
    {
      "cell_type": "code",
      "metadata": {
        "id": "NgqUUy9BKz6Y"
      },
      "source": [
        "lovbrudd_09405_df = pd.read_csv('lovbrudd-09405.csv')"
      ],
      "execution_count": null,
      "outputs": []
    },
    {
      "cell_type": "code",
      "metadata": {
        "id": "96mZQkPOHX1f"
      },
      "source": [
        "lovbrudd_09405_df['lovbruddstype'] = lovbrudd_09405_df['lovbruddstype'].str.replace('¬¬', '')\n",
        "lovbrudd_09405_df['lovbruddstype'] = lovbrudd_09405_df['lovbruddstype'].str.replace('¬', '')\n",
        "lovbrudd_09405_df['lovbruddstype'] = lovbrudd_09405_df['lovbruddstype'].str.replace(\"'\", '')\n",
        "\n",
        "lovbrudd_09405_df['politiets avgjørelse'] = lovbrudd_09405_df['politiets avgjørelse'].str.replace('¬¬', '')\n",
        "lovbrudd_09405_df['politiets avgjørelse'] = lovbrudd_09405_df['politiets avgjørelse'].str.replace('¬', '')\n",
        "lovbrudd_09405_df['politiets avgjørelse'] = lovbrudd_09405_df['politiets avgjørelse'].str.replace(\"'\", '')\n",
        "\n",
        "lovbrudd_09405_df['statistikkvariabel'] = lovbrudd_09405_df['statistikkvariabel'].str.replace('¬¬', '')\n",
        "lovbrudd_09405_df['statistikkvariabel'] = lovbrudd_09405_df['statistikkvariabel'].str.replace('¬', '')\n",
        "lovbrudd_09405_df['statistikkvariabel'] = lovbrudd_09405_df['statistikkvariabel'].str.replace(\"'\", '')\n",
        "\n",
        "lovbrudd_09405_df = lovbrudd_09405_df.fillna(0)\n",
        "del lovbrudd_09405_df['Unnamed: 0']"
      ],
      "execution_count": null,
      "outputs": []
    },
    {
      "cell_type": "code",
      "metadata": {
        "id": "9y6gI7DTKsCA"
      },
      "source": [
        "lovbrudd_09405_df.to_csv(r'./ferdig_filer/lovbrudd_09405.csv', encoding='utf-8', sep=',', index=False)"
      ],
      "execution_count": null,
      "outputs": []
    },
    {
      "cell_type": "markdown",
      "metadata": {
        "id": "Jhzni0igNO3T"
      },
      "source": [
        "## **lovbrudd-09406.csv**"
      ]
    },
    {
      "cell_type": "markdown",
      "metadata": {
        "id": "RQt93RJtV6yf"
      },
      "source": [
        "### **Payload**"
      ]
    },
    {
      "cell_type": "code",
      "metadata": {
        "id": "z8lwWRsLNLkU"
      },
      "source": [
        "payload_09406 = {\n",
        "  \"query\": [\n",
        "    {\n",
        "      \"code\": \"LovbruddKrim\",\n",
        "      \"selection\": {\n",
        "        \"filter\": \"all\",\n",
        "        \"values\": [\n",
        "          \"*\"\n",
        "        ]\n",
        "      }\n",
        "    },\n",
        "    {\n",
        "      \"code\": \"ContentsCode\",\n",
        "      \"selection\": {\n",
        "        \"filter\": \"all\",\n",
        "        \"values\": [\n",
        "          \"*\"\n",
        "        ]\n",
        "      }\n",
        "    },\n",
        "    {\n",
        "      \"code\": \"Tid\",\n",
        "      \"selection\": {\n",
        "        \"filter\": \"all\",\n",
        "        \"values\": [\n",
        "          \"*\"\n",
        "        ]\n",
        "      }\n",
        "    }\n",
        "  ],\n",
        "  \"response\": {\n",
        "    \"format\": \"json-stat2\"\n",
        "  }\n",
        "}\n"
      ],
      "execution_count": null,
      "outputs": []
    },
    {
      "cell_type": "code",
      "metadata": {
        "id": "ShWGyrfMN4o5",
        "outputId": "3aa15164-ae1e-4b2b-ed58-c29fe976d55c",
        "colab": {
          "base_uri": "https://localhost:8080/"
        }
      },
      "source": [
        "create_csv_of_data('https://data.ssb.no/api/v0/no/table/09406', payload_09406, 'lovbrudd-09406.csv')"
      ],
      "execution_count": null,
      "outputs": [
        {
          "output_type": "stream",
          "text": [
            "<class 'pandas.core.frame.DataFrame'>\n",
            "RangeIndex: 14168 entries, 0 to 14167\n",
            "Data columns (total 4 columns):\n",
            " #   Column              Non-Null Count  Dtype  \n",
            "---  ------              --------------  -----  \n",
            " 0   lovbruddstype       14168 non-null  object \n",
            " 1   statistikkvariabel  14168 non-null  object \n",
            " 2   år                  14168 non-null  object \n",
            " 3   value               12189 non-null  float64\n",
            "dtypes: float64(1), object(3)\n",
            "memory usage: 442.9+ KB\n"
          ],
          "name": "stdout"
        },
        {
          "output_type": "execute_result",
          "data": {
            "application/vnd.google.colaboratory.intrinsic+json": {
              "type": "string"
            },
            "text/plain": [
              "'Data is downloaded and put in csv file'"
            ]
          },
          "metadata": {
            "tags": []
          },
          "execution_count": 25
        }
      ]
    },
    {
      "cell_type": "markdown",
      "metadata": {
        "id": "FaZwH9_FV3Jc"
      },
      "source": [
        "### **Prep.**"
      ]
    },
    {
      "cell_type": "code",
      "metadata": {
        "id": "PjB-3kOKNf_O"
      },
      "source": [
        "lovbrudd_09406_df = pd.read_csv('lovbrudd-09406.csv')"
      ],
      "execution_count": null,
      "outputs": []
    },
    {
      "cell_type": "code",
      "metadata": {
        "id": "gXuskSXZPK0R"
      },
      "source": [
        "lovbrudd_09406_df['lovbruddstype'] = lovbrudd_09406_df['lovbruddstype'].str.replace('¬¬', '')\n",
        "lovbrudd_09406_df['lovbruddstype'] = lovbrudd_09406_df['lovbruddstype'].str.replace('¬', '')\n",
        "lovbrudd_09406_df['lovbruddstype'] = lovbrudd_09406_df['lovbruddstype'].str.replace(\"'\", '')\n",
        "\n",
        "lovbrudd_09406_df = lovbrudd_09406_df.fillna(0)\n",
        "del lovbrudd_09406_df['Unnamed: 0']"
      ],
      "execution_count": null,
      "outputs": []
    },
    {
      "cell_type": "code",
      "metadata": {
        "id": "8m94SMr0QrCN"
      },
      "source": [
        "lovbrudd_09406_df.to_csv(r'./Done files/lovbrudd_09406.csv', encoding='utf-8', sep=',', index=False)"
      ],
      "execution_count": null,
      "outputs": []
    },
    {
      "cell_type": "markdown",
      "metadata": {
        "id": "EHJHxXMWVjgg"
      },
      "source": [
        "## **lovbrudd-09407.csv**"
      ]
    },
    {
      "cell_type": "markdown",
      "metadata": {
        "id": "NKSGcrZq4KQ7"
      },
      "source": [
        "### **payload_09407**"
      ]
    },
    {
      "cell_type": "code",
      "metadata": {
        "id": "gGqz9sh6dksw"
      },
      "source": [
        "payload_09407 = {\n",
        "  \"query\": [\n",
        "    {\n",
        "      \"code\": \"Region\",\n",
        "      \"selection\": {\n",
        "        \"filter\": \"item\",\n",
        "        \"values\": [\n",
        "          \"P01\",\n",
        "      \n",
        "        ]\n",
        "      }\n",
        "    },\n",
        "    {\n",
        "      \"code\": \"PolitiAvgjorelse\",\n",
        "      \"selection\": {\n",
        "        \"filter\": \"all\",\n",
        "        \"values\": [\n",
        "          \"*\"\n",
        "        ]\n",
        "      }\n",
        "    },\n",
        "    {\n",
        "      \"code\": \"ContentsCode\",\n",
        "      \"selection\": {\n",
        "        \"filter\": \"all\",\n",
        "        \"values\": [\n",
        "          \"*\"\n",
        "        ]\n",
        "      }\n",
        "    },\n",
        "    {\n",
        "      \"code\": \"Tid\",\n",
        "      \"selection\": {\n",
        "        \"filter\": \"all\",\n",
        "        \"values\": [\n",
        "          \"*\"\n",
        "        ]\n",
        "      }\n",
        "    }\n",
        "  ],\n",
        "  \"response\": {\n",
        "    \"format\": \"json-stat2\"\n",
        "  }\n",
        "}\n"
      ],
      "execution_count": null,
      "outputs": []
    },
    {
      "cell_type": "code",
      "metadata": {
        "id": "pRxys6cGeAYl",
        "outputId": "04983f61-4a77-406c-fef7-af757e6fb51d",
        "colab": {
          "base_uri": "https://localhost:8080/"
        }
      },
      "source": [
        "create_csv_of_data('https://data.ssb.no/api/v0/no/table/09407', payload_09407, 'lovbrudd-09407.csv')"
      ],
      "execution_count": null,
      "outputs": [
        {
          "output_type": "stream",
          "text": [
            "<class 'pandas.core.frame.DataFrame'>\n",
            "RangeIndex: 204 entries, 0 to 203\n",
            "Data columns (total 5 columns):\n",
            " #   Column                Non-Null Count  Dtype  \n",
            "---  ------                --------------  -----  \n",
            " 0   region                204 non-null    object \n",
            " 1   politiets avgjørelse  204 non-null    object \n",
            " 2   statistikkvariabel    204 non-null    object \n",
            " 3   år                    204 non-null    object \n",
            " 4   value                 168 non-null    float64\n",
            "dtypes: float64(1), object(4)\n",
            "memory usage: 8.1+ KB\n"
          ],
          "name": "stdout"
        },
        {
          "output_type": "execute_result",
          "data": {
            "application/vnd.google.colaboratory.intrinsic+json": {
              "type": "string"
            },
            "text/plain": [
              "'Data is downloaded and put in csv file'"
            ]
          },
          "metadata": {
            "tags": []
          },
          "execution_count": 30
        }
      ]
    },
    {
      "cell_type": "markdown",
      "metadata": {
        "id": "XwKEcQMP4N6z"
      },
      "source": [
        "### **prep. 09407**"
      ]
    },
    {
      "cell_type": "code",
      "metadata": {
        "id": "X55rGGTa4oSl"
      },
      "source": [
        "lovbrudd_09407_df = pd.read_csv('lovbrudd-09407.csv')"
      ],
      "execution_count": null,
      "outputs": []
    },
    {
      "cell_type": "code",
      "metadata": {
        "id": "RLXXgqM64v5Q"
      },
      "source": [
        "lovbrudd_09407_df['politiets avgjørelse'] = lovbrudd_09407_df['politiets avgjørelse'].str.replace('¬¬', '')\n",
        "lovbrudd_09407_df['politiets avgjørelse'] = lovbrudd_09407_df['politiets avgjørelse'].str.replace('¬', '')\n",
        "lovbrudd_09407_df['politiets avgjørelse'] = lovbrudd_09407_df['politiets avgjørelse'].str.replace(\"'\", '')\n",
        "\n",
        "lovbrudd_09407_df = lovbrudd_09407_df.fillna(0)\n",
        "del lovbrudd_09407_df['Unnamed: 0']"
      ],
      "execution_count": null,
      "outputs": []
    },
    {
      "cell_type": "code",
      "metadata": {
        "id": "FTrnpsq35DRQ"
      },
      "source": [
        "lovbrudd_09407_df.to_csv(r'./Done files/lovbrudd_09407.csv', encoding='utf-8', sep=',', index=False)"
      ],
      "execution_count": null,
      "outputs": []
    },
    {
      "cell_type": "markdown",
      "metadata": {
        "id": "cUG3XP3AN0rH"
      },
      "source": [
        "## **lovbrudd-09408.csv**"
      ]
    },
    {
      "cell_type": "markdown",
      "metadata": {
        "id": "yAx3RD4d5q_f"
      },
      "source": [
        "### **payload_09408**"
      ]
    },
    {
      "cell_type": "code",
      "metadata": {
        "id": "3z9oaACOLWnO"
      },
      "source": [
        "payload_09408 = {\n",
        "  \"query\": [\n",
        "    {\n",
        "      \"code\": \"Region\",\n",
        "      \"selection\": {\n",
        "        \"filter\": \"item\",\n",
        "        \"values\": [\n",
        "          \"P01\",\n",
        "         \n",
        "        ]\n",
        "      }\n",
        "    },\n",
        "    {\n",
        "      \"code\": \"LovbruddKrim\",\n",
        "      \"selection\": {\n",
        "        \"filter\": \"all\",\n",
        "        \"values\": [\n",
        "          \"*\"\n",
        "        ]\n",
        "      }\n",
        "    },\n",
        "    {\n",
        "      \"code\": \"ContentsCode\",\n",
        "      \"selection\": {\n",
        "        \"filter\": \"all\",\n",
        "        \"values\": [\n",
        "          \"*\"\n",
        "        ]\n",
        "      }\n",
        "    },\n",
        "    {\n",
        "      \"code\": \"Tid\",\n",
        "      \"selection\": {\n",
        "        \"filter\": \"all\",\n",
        "        \"values\": [\n",
        "          \"*\"\n",
        "        ]\n",
        "      }\n",
        "    }\n",
        "  ],\n",
        "  \"response\": {\n",
        "    \"format\": \"json-stat2\"\n",
        "  }\n",
        "}\n"
      ],
      "execution_count": null,
      "outputs": []
    },
    {
      "cell_type": "code",
      "metadata": {
        "id": "x1gNwZFML8K_",
        "outputId": "4c126d60-1b67-4fe6-9f76-c7f7733ca272",
        "colab": {
          "base_uri": "https://localhost:8080/"
        }
      },
      "source": [
        "create_csv_of_data('https://data.ssb.no/api/v0/no/table/09408', payload_09408, 'lovbrudd-09408.csv')"
      ],
      "execution_count": null,
      "outputs": [
        {
          "output_type": "stream",
          "text": [
            "<class 'pandas.core.frame.DataFrame'>\n",
            "RangeIndex: 782 entries, 0 to 781\n",
            "Data columns (total 5 columns):\n",
            " #   Column              Non-Null Count  Dtype  \n",
            "---  ------              --------------  -----  \n",
            " 0   region              782 non-null    object \n",
            " 1   lovbruddstype       782 non-null    object \n",
            " 2   statistikkvariabel  782 non-null    object \n",
            " 3   år                  782 non-null    object \n",
            " 4   value               618 non-null    float64\n",
            "dtypes: float64(1), object(4)\n",
            "memory usage: 30.7+ KB\n"
          ],
          "name": "stdout"
        },
        {
          "output_type": "execute_result",
          "data": {
            "application/vnd.google.colaboratory.intrinsic+json": {
              "type": "string"
            },
            "text/plain": [
              "'Data is downloaded and put in csv file'"
            ]
          },
          "metadata": {
            "tags": []
          },
          "execution_count": 35
        }
      ]
    },
    {
      "cell_type": "markdown",
      "metadata": {
        "id": "9h6DqWCa5xys"
      },
      "source": [
        "### **prep. 090408**"
      ]
    },
    {
      "cell_type": "code",
      "metadata": {
        "id": "PGCc8Z1EMd1s"
      },
      "source": [
        "lovbrudd_09408_df = pd.read_csv('lovbrudd-09408.csv')"
      ],
      "execution_count": null,
      "outputs": []
    },
    {
      "cell_type": "code",
      "metadata": {
        "id": "JQ9TCyYy7jzY"
      },
      "source": [
        "lovbrudd_09408_df['lovbruddstype'] = lovbrudd_09408_df['lovbruddstype'].str.replace('¬¬', '')\n",
        "lovbrudd_09408_df['lovbruddstype'] = lovbrudd_09408_df['lovbruddstype'].str.replace('¬', '')\n",
        "lovbrudd_09408_df['lovbruddstype'] = lovbrudd_09408_df['lovbruddstype'].str.replace(\"'\", '')\n",
        "\n",
        "lovbrudd_09408_df = lovbrudd_09408_df.fillna(0)\n",
        "del lovbrudd_09408_df['Unnamed: 0']"
      ],
      "execution_count": null,
      "outputs": []
    },
    {
      "cell_type": "code",
      "metadata": {
        "id": "bVVDpHAyl1zX",
        "outputId": "dfa79072-9fc8-47f6-d301-c4c7d886fd85",
        "colab": {
          "base_uri": "https://localhost:8080/"
        }
      },
      "source": [
        "lovbrudd_09408_df"
      ],
      "execution_count": null,
      "outputs": [
        {
          "output_type": "execute_result",
          "data": {
            "text/html": [
              "<div>\n",
              "<style scoped>\n",
              "    .dataframe tbody tr th:only-of-type {\n",
              "        vertical-align: middle;\n",
              "    }\n",
              "\n",
              "    .dataframe tbody tr th {\n",
              "        vertical-align: top;\n",
              "    }\n",
              "\n",
              "    .dataframe thead th {\n",
              "        text-align: right;\n",
              "    }\n",
              "</style>\n",
              "<table border=\"1\" class=\"dataframe\">\n",
              "  <thead>\n",
              "    <tr style=\"text-align: right;\">\n",
              "      <th></th>\n",
              "      <th>region</th>\n",
              "      <th>lovbruddstype</th>\n",
              "      <th>statistikkvariabel</th>\n",
              "      <th>år</th>\n",
              "      <th>value</th>\n",
              "    </tr>\n",
              "  </thead>\n",
              "  <tbody>\n",
              "    <tr>\n",
              "      <th>0</th>\n",
              "      <td>Oslo (-2015)</td>\n",
              "      <td>Alle lovbruddsgrupper</td>\n",
              "      <td>Lovbrudd etterforsket</td>\n",
              "      <td>2002</td>\n",
              "      <td>96824.0</td>\n",
              "    </tr>\n",
              "    <tr>\n",
              "      <th>1</th>\n",
              "      <td>Oslo (-2015)</td>\n",
              "      <td>Alle lovbruddsgrupper</td>\n",
              "      <td>Lovbrudd etterforsket</td>\n",
              "      <td>2003</td>\n",
              "      <td>94040.0</td>\n",
              "    </tr>\n",
              "    <tr>\n",
              "      <th>2</th>\n",
              "      <td>Oslo (-2015)</td>\n",
              "      <td>Alle lovbruddsgrupper</td>\n",
              "      <td>Lovbrudd etterforsket</td>\n",
              "      <td>2004</td>\n",
              "      <td>90584.0</td>\n",
              "    </tr>\n",
              "    <tr>\n",
              "      <th>3</th>\n",
              "      <td>Oslo (-2015)</td>\n",
              "      <td>Alle lovbruddsgrupper</td>\n",
              "      <td>Lovbrudd etterforsket</td>\n",
              "      <td>2005</td>\n",
              "      <td>82886.0</td>\n",
              "    </tr>\n",
              "    <tr>\n",
              "      <th>4</th>\n",
              "      <td>Oslo (-2015)</td>\n",
              "      <td>Alle lovbruddsgrupper</td>\n",
              "      <td>Lovbrudd etterforsket</td>\n",
              "      <td>2006</td>\n",
              "      <td>78678.0</td>\n",
              "    </tr>\n",
              "    <tr>\n",
              "      <th>...</th>\n",
              "      <td>...</td>\n",
              "      <td>...</td>\n",
              "      <td>...</td>\n",
              "      <td>...</td>\n",
              "      <td>...</td>\n",
              "    </tr>\n",
              "    <tr>\n",
              "      <th>777</th>\n",
              "      <td>Oslo (-2015)</td>\n",
              "      <td>Annen kriminalitet (inkl. Arbeidsmiljø)</td>\n",
              "      <td>Lovbrudd etterforsket. Oppklaringsprosent</td>\n",
              "      <td>2014</td>\n",
              "      <td>69.0</td>\n",
              "    </tr>\n",
              "    <tr>\n",
              "      <th>778</th>\n",
              "      <td>Oslo (-2015)</td>\n",
              "      <td>Annen kriminalitet (inkl. Arbeidsmiljø)</td>\n",
              "      <td>Lovbrudd etterforsket. Oppklaringsprosent</td>\n",
              "      <td>2015</td>\n",
              "      <td>0.0</td>\n",
              "    </tr>\n",
              "    <tr>\n",
              "      <th>779</th>\n",
              "      <td>Oslo (-2015)</td>\n",
              "      <td>Annen kriminalitet (inkl. Arbeidsmiljø)</td>\n",
              "      <td>Lovbrudd etterforsket. Oppklaringsprosent</td>\n",
              "      <td>2016</td>\n",
              "      <td>0.0</td>\n",
              "    </tr>\n",
              "    <tr>\n",
              "      <th>780</th>\n",
              "      <td>Oslo (-2015)</td>\n",
              "      <td>Annen kriminalitet (inkl. Arbeidsmiljø)</td>\n",
              "      <td>Lovbrudd etterforsket. Oppklaringsprosent</td>\n",
              "      <td>2017</td>\n",
              "      <td>0.0</td>\n",
              "    </tr>\n",
              "    <tr>\n",
              "      <th>781</th>\n",
              "      <td>Oslo (-2015)</td>\n",
              "      <td>Annen kriminalitet (inkl. Arbeidsmiljø)</td>\n",
              "      <td>Lovbrudd etterforsket. Oppklaringsprosent</td>\n",
              "      <td>2018</td>\n",
              "      <td>0.0</td>\n",
              "    </tr>\n",
              "  </tbody>\n",
              "</table>\n",
              "<p>782 rows × 5 columns</p>\n",
              "</div>"
            ],
            "text/plain": [
              "           region                            lovbruddstype  ...    år    value\n",
              "0    Oslo (-2015)                    Alle lovbruddsgrupper  ...  2002  96824.0\n",
              "1    Oslo (-2015)                    Alle lovbruddsgrupper  ...  2003  94040.0\n",
              "2    Oslo (-2015)                    Alle lovbruddsgrupper  ...  2004  90584.0\n",
              "3    Oslo (-2015)                    Alle lovbruddsgrupper  ...  2005  82886.0\n",
              "4    Oslo (-2015)                    Alle lovbruddsgrupper  ...  2006  78678.0\n",
              "..            ...                                      ...  ...   ...      ...\n",
              "777  Oslo (-2015)  Annen kriminalitet (inkl. Arbeidsmiljø)  ...  2014     69.0\n",
              "778  Oslo (-2015)  Annen kriminalitet (inkl. Arbeidsmiljø)  ...  2015      0.0\n",
              "779  Oslo (-2015)  Annen kriminalitet (inkl. Arbeidsmiljø)  ...  2016      0.0\n",
              "780  Oslo (-2015)  Annen kriminalitet (inkl. Arbeidsmiljø)  ...  2017      0.0\n",
              "781  Oslo (-2015)  Annen kriminalitet (inkl. Arbeidsmiljø)  ...  2018      0.0\n",
              "\n",
              "[782 rows x 5 columns]"
            ]
          },
          "metadata": {
            "tags": []
          },
          "execution_count": 38
        }
      ]
    },
    {
      "cell_type": "code",
      "metadata": {
        "id": "7Yiz5-Bn6W12"
      },
      "source": [
        "lovbrudd_09408_df.to_csv(r'./Done files/lovbrudd_09408.csv', encoding='utf-8', sep=',', index=False)"
      ],
      "execution_count": null,
      "outputs": []
    },
    {
      "cell_type": "markdown",
      "metadata": {
        "id": "2IvWPPdf9QH0"
      },
      "source": [
        "## **Lovbrudd-09409.csv**"
      ]
    },
    {
      "cell_type": "markdown",
      "metadata": {
        "id": "roa43UVk9cdF"
      },
      "source": [
        "### **payload_09409**"
      ]
    },
    {
      "cell_type": "code",
      "metadata": {
        "id": "0ZG1dDWJ9PV_"
      },
      "source": [
        "payload_09409 = {\n",
        "  \"query\": [\n",
        "    {\n",
        "      \"code\": \"LovbruddKrim\",\n",
        "      \"selection\": {\n",
        "        \"filter\": \"all\",\n",
        "        \"values\": [\n",
        "          \"*\"\n",
        "        ]\n",
        "      }\n",
        "    },\n",
        "    {\n",
        "      \"code\": \"AntSiktede\",\n",
        "      \"selection\": {\n",
        "        \"filter\": \"all\",\n",
        "        \"values\": [\n",
        "          \"*\"\n",
        "        ]\n",
        "      }\n",
        "    },\n",
        "    {\n",
        "      \"code\": \"ContentsCode\",\n",
        "      \"selection\": {\n",
        "        \"filter\": \"all\",\n",
        "        \"values\": [\n",
        "          \"*\"\n",
        "        ]\n",
        "      }\n",
        "    },\n",
        "    {\n",
        "      \"code\": \"Tid\",\n",
        "      \"selection\": {\n",
        "        \"filter\": \"all\",\n",
        "        \"values\": [\n",
        "          \"*\"\n",
        "        ]\n",
        "      }\n",
        "    }\n",
        "  ],\n",
        "  \"response\": {\n",
        "    \"format\": \"json-stat2\"\n",
        "  }\n",
        "}\n"
      ],
      "execution_count": null,
      "outputs": []
    },
    {
      "cell_type": "code",
      "metadata": {
        "id": "D3317F2J9sy_",
        "outputId": "a265a2bd-83a1-409a-ceee-81e39a4d9c22",
        "colab": {
          "base_uri": "https://localhost:8080/"
        }
      },
      "source": [
        "create_csv_of_data('https://data.ssb.no/api/v0/no/table/09409', payload_09409, 'lovbrudd-09409.csv')"
      ],
      "execution_count": null,
      "outputs": [
        {
          "output_type": "stream",
          "text": [
            "<class 'pandas.core.frame.DataFrame'>\n",
            "RangeIndex: 47124 entries, 0 to 47123\n",
            "Data columns (total 5 columns):\n",
            " #   Column                   Non-Null Count  Dtype  \n",
            "---  ------                   --------------  -----  \n",
            " 0   lovbruddstype            47124 non-null  object \n",
            " 1   antall siktede personer  47124 non-null  object \n",
            " 2   statistikkvariabel       47124 non-null  object \n",
            " 3   år                       47124 non-null  object \n",
            " 4   value                    43848 non-null  float64\n",
            "dtypes: float64(1), object(4)\n",
            "memory usage: 1.8+ MB\n"
          ],
          "name": "stdout"
        },
        {
          "output_type": "execute_result",
          "data": {
            "application/vnd.google.colaboratory.intrinsic+json": {
              "type": "string"
            },
            "text/plain": [
              "'Data is downloaded and put in csv file'"
            ]
          },
          "metadata": {
            "tags": []
          },
          "execution_count": 41
        }
      ]
    },
    {
      "cell_type": "markdown",
      "metadata": {
        "id": "hmhT-8ID9g3x"
      },
      "source": [
        "### **prep. 09409**"
      ]
    },
    {
      "cell_type": "code",
      "metadata": {
        "id": "YhSvmEAc9l55"
      },
      "source": [
        "lovbrudd_09409_df = pd.read_csv('lovbrudd-09409.csv')"
      ],
      "execution_count": null,
      "outputs": []
    },
    {
      "cell_type": "code",
      "metadata": {
        "id": "vmXvFrRV9_bF"
      },
      "source": [
        "lovbrudd_09409_df['lovbruddstype'] = lovbrudd_09409_df['lovbruddstype'].str.replace('¬¬', '')\n",
        "lovbrudd_09409_df['lovbruddstype'] = lovbrudd_09409_df['lovbruddstype'].str.replace('¬', '')\n",
        "lovbrudd_09409_df['lovbruddstype'] = lovbrudd_09409_df['lovbruddstype'].str.replace(\"'\", '')\n",
        "\n",
        "lovbrudd_09409_df = lovbrudd_09409_df.fillna(0)\n",
        "del lovbrudd_09409_df['Unnamed: 0']"
      ],
      "execution_count": null,
      "outputs": []
    },
    {
      "cell_type": "code",
      "metadata": {
        "id": "QIh0C0Nr-Ibn"
      },
      "source": [
        "lovbrudd_09409_df.to_csv(r'./Done files/lovbrudd_09409.csv', encoding='utf-8', sep=',', index=False)"
      ],
      "execution_count": null,
      "outputs": []
    },
    {
      "cell_type": "markdown",
      "metadata": {
        "id": "uA9mVfViogH8"
      },
      "source": [
        "## **lovbrudd-09410.csv**"
      ]
    },
    {
      "cell_type": "markdown",
      "metadata": {
        "id": "JM9_03hZ-5xp"
      },
      "source": [
        "### **payload_09410**"
      ]
    },
    {
      "cell_type": "code",
      "metadata": {
        "id": "N_jFe91Yonq6"
      },
      "source": [
        "payload_09410 = {\n",
        "  \"query\": [\n",
        "    {\n",
        "      \"code\": \"LovbruddKrim\",\n",
        "      \"selection\": {\n",
        "        \"filter\": \"all\",\n",
        "        \"values\": [\n",
        "          \"*\"\n",
        "        ]\n",
        "      }\n",
        "    },\n",
        "    {\n",
        "      \"code\": \"Alder\",\n",
        "      \"selection\": {\n",
        "        \"filter\": \"all\",\n",
        "        \"values\": [\n",
        "          \"*\"\n",
        "        ]\n",
        "      }\n",
        "    },\n",
        "    {\n",
        "      \"code\": \"ContentsCode\",\n",
        "      \"selection\": {\n",
        "        \"filter\": \"all\",\n",
        "        \"values\": [\n",
        "          \"*\"\n",
        "        ]\n",
        "      }\n",
        "    },\n",
        "    {\n",
        "      \"code\": \"Tid\",\n",
        "      \"selection\": {\n",
        "        \"filter\": \"all\",\n",
        "        \"values\": [\n",
        "          \"*\"\n",
        "        ]\n",
        "      }\n",
        "    }\n",
        "  ],\n",
        "  \"response\": {\n",
        "    \"format\": \"json-stat2\"\n",
        "  }\n",
        "}\n"
      ],
      "execution_count": null,
      "outputs": []
    },
    {
      "cell_type": "code",
      "metadata": {
        "id": "pMlpcwifo24k",
        "outputId": "d212fa05-1e87-421e-f136-4de253d77eec",
        "colab": {
          "base_uri": "https://localhost:8080/"
        }
      },
      "source": [
        "create_csv_of_data('https://data.ssb.no/api/v0/no/table/09410', payload_09410, 'lovbrudd-09410.csv')"
      ],
      "execution_count": null,
      "outputs": [
        {
          "output_type": "stream",
          "text": [
            "<class 'pandas.core.frame.DataFrame'>\n",
            "RangeIndex: 45036 entries, 0 to 45035\n",
            "Data columns (total 5 columns):\n",
            " #   Column              Non-Null Count  Dtype  \n",
            "---  ------              --------------  -----  \n",
            " 0   lovbruddstype       45036 non-null  object \n",
            " 1   alder               45036 non-null  object \n",
            " 2   statistikkvariabel  45036 non-null  object \n",
            " 3   år                  45036 non-null  object \n",
            " 4   value               35916 non-null  float64\n",
            "dtypes: float64(1), object(4)\n",
            "memory usage: 1.7+ MB\n"
          ],
          "name": "stdout"
        },
        {
          "output_type": "execute_result",
          "data": {
            "application/vnd.google.colaboratory.intrinsic+json": {
              "type": "string"
            },
            "text/plain": [
              "'Data is downloaded and put in csv file'"
            ]
          },
          "metadata": {
            "tags": []
          },
          "execution_count": 46
        }
      ]
    },
    {
      "cell_type": "markdown",
      "metadata": {
        "id": "9c-qniHd--UH"
      },
      "source": [
        "### **prep. 09410**"
      ]
    },
    {
      "cell_type": "code",
      "metadata": {
        "id": "ZVVhwz3E-3WH"
      },
      "source": [
        "lovbrud_09410_df = pd.read_csv('lovbrudd-09410.csv')"
      ],
      "execution_count": null,
      "outputs": []
    },
    {
      "cell_type": "code",
      "metadata": {
        "id": "B1P6xmSfpKI_"
      },
      "source": [
        "lovbrud_09410_df['lovbruddstype'] = lovbrud_09410_df['lovbruddstype'].str.replace('¬¬', '')\n",
        "lovbrud_09410_df['lovbruddstype'] = lovbrud_09410_df['lovbruddstype'].str.replace('¬', '')\n",
        "lovbrud_09410_df['lovbruddstype'] = lovbrud_09410_df['lovbruddstype'].str.replace(\"'\", '')\n",
        "\n",
        "lovbrud_09410_df = lovbrud_09410_df.fillna(0)\n",
        "del lovbrud_09410_df['Unnamed: 0']"
      ],
      "execution_count": null,
      "outputs": []
    },
    {
      "cell_type": "code",
      "metadata": {
        "id": "UNM6GqQt_Ltn"
      },
      "source": [
        "lovbrud_09410_df.to_csv(r'./Done files/lovbrudd_09410.csv',encoding='utf-8', sep=',', index=False)"
      ],
      "execution_count": null,
      "outputs": []
    },
    {
      "cell_type": "markdown",
      "metadata": {
        "id": "D_6Wr9cW_2QH"
      },
      "source": [
        "## **lovbrudd-09411.csv**"
      ]
    },
    {
      "cell_type": "markdown",
      "metadata": {
        "id": "gdsolm42_-Ib"
      },
      "source": [
        "### **payload_09411**"
      ]
    },
    {
      "cell_type": "code",
      "metadata": {
        "id": "ECldMqxlACo1"
      },
      "source": [
        "payload_09411 = {\n",
        "  \"query\": [\n",
        "    {\n",
        "      \"code\": \"LovbruddKrim\",\n",
        "      \"selection\": {\n",
        "        \"filter\": \"all\",\n",
        "        \"values\": [\n",
        "          \"*\"\n",
        "        ]\n",
        "      }\n",
        "    },\n",
        "    {\n",
        "      \"code\": \"Kjonn\",\n",
        "      \"selection\": {\n",
        "        \"filter\": \"all\",\n",
        "        \"values\": [\n",
        "          \"*\"\n",
        "        ]\n",
        "      }\n",
        "    },\n",
        "    {\n",
        "      \"code\": \"ContentsCode\",\n",
        "      \"selection\": {\n",
        "        \"filter\": \"all\",\n",
        "        \"values\": [\n",
        "          \"*\"\n",
        "        ]\n",
        "      }\n",
        "    },\n",
        "    {\n",
        "      \"code\": \"Tid\",\n",
        "      \"selection\": {\n",
        "        \"filter\": \"all\",\n",
        "        \"values\": [\n",
        "          \"*\"\n",
        "        ]\n",
        "      }\n",
        "    }\n",
        "  ],\n",
        "  \"response\": {\n",
        "    \"format\": \"json-stat2\"\n",
        "  }\n",
        "}\n"
      ],
      "execution_count": null,
      "outputs": []
    },
    {
      "cell_type": "code",
      "metadata": {
        "id": "ZMxYEhxqAK58",
        "outputId": "ccb3952b-caf1-44d3-d80f-4d4f4a23d81c",
        "colab": {
          "base_uri": "https://localhost:8080/",
          "height": 239
        }
      },
      "source": [
        "create_csv_of_data('https://data.ssb.no/api/v0/no/table/09411', payload_09411, 'lovbrudd-09411.csv')"
      ],
      "execution_count": null,
      "outputs": [
        {
          "output_type": "stream",
          "text": [
            "<class 'pandas.core.frame.DataFrame'>\n",
            "RangeIndex: 18765 entries, 0 to 18764\n",
            "Data columns (total 5 columns):\n",
            " #   Column              Non-Null Count  Dtype  \n",
            "---  ------              --------------  -----  \n",
            " 0   lovbruddstype       18765 non-null  object \n",
            " 1   kjønn               18765 non-null  object \n",
            " 2   statistikkvariabel  18765 non-null  object \n",
            " 3   år                  18765 non-null  object \n",
            " 4   value               14965 non-null  float64\n",
            "dtypes: float64(1), object(4)\n",
            "memory usage: 733.1+ KB\n"
          ],
          "name": "stdout"
        },
        {
          "output_type": "execute_result",
          "data": {
            "application/vnd.google.colaboratory.intrinsic+json": {
              "type": "string"
            },
            "text/plain": [
              "'Data is downloaded and put in csv file'"
            ]
          },
          "metadata": {
            "tags": []
          },
          "execution_count": 51
        }
      ]
    },
    {
      "cell_type": "markdown",
      "metadata": {
        "id": "N3N0mbasAWfl"
      },
      "source": [
        "### **prep. 09411**"
      ]
    },
    {
      "cell_type": "code",
      "metadata": {
        "id": "sfLRYnQeASuc"
      },
      "source": [
        "lovbrud_09411_df = pd.read_csv('lovbrudd-09411.csv')"
      ],
      "execution_count": null,
      "outputs": []
    },
    {
      "cell_type": "code",
      "metadata": {
        "id": "RBdmothjAVLF"
      },
      "source": [
        "lovbrud_09411_df['lovbruddstype'] = lovbrud_09411_df['lovbruddstype'].str.replace('¬¬', '')\n",
        "lovbrud_09411_df['lovbruddstype'] = lovbrud_09411_df['lovbruddstype'].str.replace('¬', '')\n",
        "lovbrud_09411_df['lovbruddstype'] = lovbrud_09411_df['lovbruddstype'].str.replace(\"'\", '')\n",
        "\n",
        "lovbrud_09411_df = lovbrud_09411_df.fillna(0)\n",
        "del lovbrud_09411_df['Unnamed: 0']"
      ],
      "execution_count": null,
      "outputs": []
    },
    {
      "cell_type": "code",
      "metadata": {
        "id": "ryP4RqAeAukZ"
      },
      "source": [
        "lovbrud_09411_df.to_csv(r'./Done files/lovbrudd_09411.csv',encoding='utf-8', sep=',', index=False)"
      ],
      "execution_count": null,
      "outputs": []
    },
    {
      "cell_type": "markdown",
      "metadata": {
        "id": "U85FianFBNPa"
      },
      "source": [
        "## **lovbrudd-09412.csv**"
      ]
    },
    {
      "cell_type": "markdown",
      "metadata": {
        "id": "9ohWCL6jBSrB"
      },
      "source": [
        "### **payload_09412**"
      ]
    },
    {
      "cell_type": "code",
      "metadata": {
        "id": "wZ11BqsRBYiN"
      },
      "source": [
        "payload_09412 = {\n",
        "  \"query\": [\n",
        "    {\n",
        "      \"code\": \"AntallLovbr\",\n",
        "      \"selection\": {\n",
        "        \"filter\": \"all\",\n",
        "        \"values\": [\n",
        "          \"*\"\n",
        "        ]\n",
        "      }\n",
        "    },\n",
        "    {\n",
        "      \"code\": \"Alder\",\n",
        "      \"selection\": {\n",
        "        \"filter\": \"all\",\n",
        "        \"values\": [\n",
        "          \"*\"\n",
        "        ]\n",
        "      }\n",
        "    },\n",
        "    {\n",
        "      \"code\": \"ContentsCode\",\n",
        "      \"selection\": {\n",
        "        \"filter\": \"all\",\n",
        "        \"values\": [\n",
        "          \"*\"\n",
        "        ]\n",
        "      }\n",
        "    },\n",
        "    {\n",
        "      \"code\": \"Tid\",\n",
        "      \"selection\": {\n",
        "        \"filter\": \"all\",\n",
        "        \"values\": [\n",
        "          \"*\"\n",
        "        ]\n",
        "      }\n",
        "    }\n",
        "  ],\n",
        "  \"response\": {\n",
        "    \"format\": \"json-stat2\"\n",
        "  }\n",
        "}\n"
      ],
      "execution_count": null,
      "outputs": []
    },
    {
      "cell_type": "code",
      "metadata": {
        "id": "eqHK1StABer5",
        "outputId": "68f69928-0ca4-4052-9060-8ba788ff674f",
        "colab": {
          "base_uri": "https://localhost:8080/"
        }
      },
      "source": [
        "create_csv_of_data('https://data.ssb.no/api/v0/no/table/09412', payload_09412, 'lovbrudd-09412.csv')"
      ],
      "execution_count": null,
      "outputs": [
        {
          "output_type": "stream",
          "text": [
            "<class 'pandas.core.frame.DataFrame'>\n",
            "RangeIndex: 2244 entries, 0 to 2243\n",
            "Data columns (total 5 columns):\n",
            " #   Column              Non-Null Count  Dtype \n",
            "---  ------              --------------  ----- \n",
            " 0   antall lovbrudd     2244 non-null   object\n",
            " 1   alder               2244 non-null   object\n",
            " 2   statistikkvariabel  2244 non-null   object\n",
            " 3   år                  2244 non-null   object\n",
            " 4   value               2244 non-null   int64 \n",
            "dtypes: int64(1), object(4)\n",
            "memory usage: 87.8+ KB\n"
          ],
          "name": "stdout"
        },
        {
          "output_type": "execute_result",
          "data": {
            "application/vnd.google.colaboratory.intrinsic+json": {
              "type": "string"
            },
            "text/plain": [
              "'Data is downloaded and put in csv file'"
            ]
          },
          "metadata": {
            "tags": []
          },
          "execution_count": 56
        }
      ]
    },
    {
      "cell_type": "markdown",
      "metadata": {
        "id": "pEshK4E6BiEu"
      },
      "source": [
        "### **prep. 09412**"
      ]
    },
    {
      "cell_type": "code",
      "metadata": {
        "id": "UBCqffTbBhar"
      },
      "source": [
        "lovbrudd_09412_df = pd.read_csv('lovbrudd-09412.csv')"
      ],
      "execution_count": null,
      "outputs": []
    },
    {
      "cell_type": "code",
      "metadata": {
        "id": "gW9w1gWuBsns"
      },
      "source": [
        "lovbrudd_09412_df = lovbrudd_09412_df.fillna(0)\n",
        "del lovbrudd_09412_df['Unnamed: 0']"
      ],
      "execution_count": null,
      "outputs": []
    },
    {
      "cell_type": "code",
      "metadata": {
        "id": "MAwjfcRrBuwR"
      },
      "source": [
        "lovbrudd_09412_df.to_csv(r'./Done files/lovbrudd_09412.csv',encoding='utf-8', sep=',', index=False)"
      ],
      "execution_count": null,
      "outputs": []
    },
    {
      "cell_type": "markdown",
      "metadata": {
        "id": "pzZ68CJZCaX2"
      },
      "source": [
        "## **lovbrudd-09413.csv**"
      ]
    },
    {
      "cell_type": "markdown",
      "metadata": {
        "id": "jEdhHMSJCgDl"
      },
      "source": [
        "### **payload_09413**"
      ]
    },
    {
      "cell_type": "code",
      "metadata": {
        "id": "9NjCVAZiCkB4"
      },
      "source": [
        "payload_09413 = {\n",
        "  \"query\": [\n",
        "    {\n",
        "      \"code\": \"AntallLovbr\",\n",
        "      \"selection\": {\n",
        "        \"filter\": \"all\",\n",
        "        \"values\": [\n",
        "          \"*\"\n",
        "        ]\n",
        "      }\n",
        "    },\n",
        "    {\n",
        "      \"code\": \"Kjonn\",\n",
        "      \"selection\": {\n",
        "        \"filter\": \"all\",\n",
        "        \"values\": [\n",
        "          \"*\"\n",
        "        ]\n",
        "      }\n",
        "    },\n",
        "    {\n",
        "      \"code\": \"ContentsCode\",\n",
        "      \"selection\": {\n",
        "        \"filter\": \"all\",\n",
        "        \"values\": [\n",
        "          \"*\"\n",
        "        ]\n",
        "      }\n",
        "    },\n",
        "    {\n",
        "      \"code\": \"Tid\",\n",
        "      \"selection\": {\n",
        "        \"filter\": \"all\",\n",
        "        \"values\": [\n",
        "          \"*\"\n",
        "        ]\n",
        "      }\n",
        "    }\n",
        "  ],\n",
        "  \"response\": {\n",
        "    \"format\": \"json-stat2\"\n",
        "  }\n",
        "}\n"
      ],
      "execution_count": null,
      "outputs": []
    },
    {
      "cell_type": "code",
      "metadata": {
        "id": "EfOa0VWYC4Il",
        "outputId": "d01dfaee-8763-410e-ad05-3a811ea5c630",
        "colab": {
          "base_uri": "https://localhost:8080/"
        }
      },
      "source": [
        "create_csv_of_data('https://data.ssb.no/api/v0/no/table/09413', payload_09413, 'lovbrudd-09413.csv')"
      ],
      "execution_count": null,
      "outputs": [
        {
          "output_type": "stream",
          "text": [
            "<class 'pandas.core.frame.DataFrame'>\n",
            "RangeIndex: 935 entries, 0 to 934\n",
            "Data columns (total 5 columns):\n",
            " #   Column              Non-Null Count  Dtype \n",
            "---  ------              --------------  ----- \n",
            " 0   antall lovbrudd     935 non-null    object\n",
            " 1   kjønn               935 non-null    object\n",
            " 2   statistikkvariabel  935 non-null    object\n",
            " 3   år                  935 non-null    object\n",
            " 4   value               935 non-null    int64 \n",
            "dtypes: int64(1), object(4)\n",
            "memory usage: 36.6+ KB\n"
          ],
          "name": "stdout"
        },
        {
          "output_type": "execute_result",
          "data": {
            "application/vnd.google.colaboratory.intrinsic+json": {
              "type": "string"
            },
            "text/plain": [
              "'Data is downloaded and put in csv file'"
            ]
          },
          "metadata": {
            "tags": []
          },
          "execution_count": 61
        }
      ]
    },
    {
      "cell_type": "markdown",
      "metadata": {
        "id": "fHcCrMrhDArA"
      },
      "source": [
        "### **prep. 09413**"
      ]
    },
    {
      "cell_type": "code",
      "metadata": {
        "id": "E4fglpN6DFXd"
      },
      "source": [
        "lovbrudd_09413_df = pd.read_csv('lovbrudd-09413.csv')"
      ],
      "execution_count": null,
      "outputs": []
    },
    {
      "cell_type": "code",
      "metadata": {
        "id": "Q8XvhTL7DiBE"
      },
      "source": [
        "lovbrudd_09413_df = lovbrudd_09413_df.fillna(0)\n",
        "del lovbrudd_09413_df['Unnamed: 0']"
      ],
      "execution_count": null,
      "outputs": []
    },
    {
      "cell_type": "code",
      "metadata": {
        "id": "_CAka_JvDqNQ"
      },
      "source": [
        "lovbrudd_09413_df.to_csv(r'./Done files/lovbrudd_09413.csv',encoding='utf-8', sep=',', index=False)"
      ],
      "execution_count": null,
      "outputs": []
    },
    {
      "cell_type": "markdown",
      "metadata": {
        "id": "g-hFFB90UYcO"
      },
      "source": [
        "## **lovbrudd-11453.csv**"
      ]
    },
    {
      "cell_type": "markdown",
      "metadata": {
        "id": "Bv2PzwISVbSa"
      },
      "source": [
        "### **payload_11453**"
      ]
    },
    {
      "cell_type": "code",
      "metadata": {
        "id": "Gx4V3VfJUmkC"
      },
      "source": [
        "payload_11453 ={\n",
        "  \"query\": [\n",
        "    {\n",
        "      \"code\": \"Kjonn\",\n",
        "      \"selection\": {\n",
        "        \"filter\": \"all\",\n",
        "        \"values\": [\n",
        "          \"*\"\n",
        "        ]\n",
        "      }\n",
        "    },\n",
        "    {\n",
        "      \"code\": \"Alder\",\n",
        "      \"selection\": {\n",
        "        \"filter\": \"all\",\n",
        "        \"values\": [\n",
        "          \"*\"\n",
        "        ]\n",
        "      }\n",
        "    },\n",
        "    {\n",
        "      \"code\": \"ContentsCode\",\n",
        "      \"selection\": {\n",
        "        \"filter\": \"all\",\n",
        "        \"values\": [\n",
        "          \"*\"\n",
        "        ]\n",
        "      }\n",
        "    },\n",
        "    {\n",
        "      \"code\": \"Tid\",\n",
        "      \"selection\": {\n",
        "        \"filter\": \"all\",\n",
        "        \"values\": [\n",
        "          \"*\"\n",
        "        ]\n",
        "      }\n",
        "    }\n",
        "  ],\n",
        "  \"response\": {\n",
        "    \"format\": \"json-stat2\"\n",
        "  }\n",
        "}\n",
        "\n"
      ],
      "execution_count": null,
      "outputs": []
    },
    {
      "cell_type": "code",
      "metadata": {
        "id": "65UH2PxjUa2B",
        "outputId": "cc24c6ea-898f-4735-be79-f2f50559a5cf",
        "colab": {
          "base_uri": "https://localhost:8080/"
        }
      },
      "source": [
        "create_csv_of_data('https://data.ssb.no/api/v0/no/table/11453', payload_11453, 'lovbrudd-11453.csv')"
      ],
      "execution_count": null,
      "outputs": [
        {
          "output_type": "stream",
          "text": [
            "<class 'pandas.core.frame.DataFrame'>\n",
            "RangeIndex: 4860 entries, 0 to 4859\n",
            "Data columns (total 5 columns):\n",
            " #   Column              Non-Null Count  Dtype \n",
            "---  ------              --------------  ----- \n",
            " 0   kjønn               4860 non-null   object\n",
            " 1   alder               4860 non-null   object\n",
            " 2   statistikkvariabel  4860 non-null   object\n",
            " 3   år                  4860 non-null   object\n",
            " 4   value               4860 non-null   int64 \n",
            "dtypes: int64(1), object(4)\n",
            "memory usage: 190.0+ KB\n"
          ],
          "name": "stdout"
        },
        {
          "output_type": "execute_result",
          "data": {
            "application/vnd.google.colaboratory.intrinsic+json": {
              "type": "string"
            },
            "text/plain": [
              "'Data is downloaded and put in csv file'"
            ]
          },
          "metadata": {
            "tags": []
          },
          "execution_count": 66
        }
      ]
    },
    {
      "cell_type": "markdown",
      "metadata": {
        "id": "o8Ac-NUEVgNm"
      },
      "source": [
        "### **prep. 11453**"
      ]
    },
    {
      "cell_type": "code",
      "metadata": {
        "id": "f7QwFZvlEQXa"
      },
      "source": [
        "lovbrudd_11453_df = pd.read_csv('lovbrudd-11453.csv')"
      ],
      "execution_count": null,
      "outputs": []
    },
    {
      "cell_type": "code",
      "metadata": {
        "id": "fia_pAa2VPC0"
      },
      "source": [
        "lovbrudd_11453_df = lovbrudd_11453_df.fillna(0)\n",
        "del lovbrudd_11453_df['Unnamed: 0']"
      ],
      "execution_count": null,
      "outputs": []
    },
    {
      "cell_type": "code",
      "metadata": {
        "id": "g7yldGMWp_CE"
      },
      "source": [
        "lovbrudd_11453_df.to_csv(r'./Done files/lovbrudd_11453.csv',encoding='utf-8', sep=',', index=False)"
      ],
      "execution_count": null,
      "outputs": []
    },
    {
      "cell_type": "markdown",
      "metadata": {
        "id": "qgpYmJL1wJ9R"
      },
      "source": [
        "## **Clean Dataset**"
      ]
    },
    {
      "cell_type": "markdown",
      "metadata": {
        "id": "cvj8AvdnIIce"
      },
      "source": [
        "### **df_08485**"
      ]
    },
    {
      "cell_type": "code",
      "metadata": {
        "id": "Wv8eoZtrINSX",
        "outputId": "4a532705-689c-4ec5-9895-c9b7662d1f60",
        "colab": {
          "base_uri": "https://localhost:8080/",
          "height": 391
        }
      },
      "source": [
        "df_08485 = pd.read_csv('/content/Done files/lovbrudd_08485.csv')\n",
        "df_08485"
      ],
      "execution_count": null,
      "outputs": [
        {
          "output_type": "execute_result",
          "data": {
            "text/html": [
              "<div>\n",
              "<style scoped>\n",
              "    .dataframe tbody tr th:only-of-type {\n",
              "        vertical-align: middle;\n",
              "    }\n",
              "\n",
              "    .dataframe tbody tr th {\n",
              "        vertical-align: top;\n",
              "    }\n",
              "\n",
              "    .dataframe thead th {\n",
              "        text-align: right;\n",
              "    }\n",
              "</style>\n",
              "<table border=\"1\" class=\"dataframe\">\n",
              "  <thead>\n",
              "    <tr style=\"text-align: right;\">\n",
              "      <th></th>\n",
              "      <th>region</th>\n",
              "      <th>lovbruddstype</th>\n",
              "      <th>statistikkvariabel</th>\n",
              "      <th>år</th>\n",
              "      <th>value</th>\n",
              "    </tr>\n",
              "  </thead>\n",
              "  <tbody>\n",
              "    <tr>\n",
              "      <th>0</th>\n",
              "      <td>Oslo (-2015)</td>\n",
              "      <td>Alle lovbruddsgrupper</td>\n",
              "      <td>Lovbrudd anmeldt</td>\n",
              "      <td>2002</td>\n",
              "      <td>0.0</td>\n",
              "    </tr>\n",
              "    <tr>\n",
              "      <th>1</th>\n",
              "      <td>Oslo (-2015)</td>\n",
              "      <td>Alle lovbruddsgrupper</td>\n",
              "      <td>Lovbrudd anmeldt</td>\n",
              "      <td>2003</td>\n",
              "      <td>0.0</td>\n",
              "    </tr>\n",
              "    <tr>\n",
              "      <th>2</th>\n",
              "      <td>Oslo (-2015)</td>\n",
              "      <td>Alle lovbruddsgrupper</td>\n",
              "      <td>Lovbrudd anmeldt</td>\n",
              "      <td>2004</td>\n",
              "      <td>0.0</td>\n",
              "    </tr>\n",
              "    <tr>\n",
              "      <th>3</th>\n",
              "      <td>Oslo (-2015)</td>\n",
              "      <td>Alle lovbruddsgrupper</td>\n",
              "      <td>Lovbrudd anmeldt</td>\n",
              "      <td>2005</td>\n",
              "      <td>0.0</td>\n",
              "    </tr>\n",
              "    <tr>\n",
              "      <th>4</th>\n",
              "      <td>Oslo (-2015)</td>\n",
              "      <td>Alle lovbruddsgrupper</td>\n",
              "      <td>Lovbrudd anmeldt</td>\n",
              "      <td>2006</td>\n",
              "      <td>0.0</td>\n",
              "    </tr>\n",
              "    <tr>\n",
              "      <th>...</th>\n",
              "      <td>...</td>\n",
              "      <td>...</td>\n",
              "      <td>...</td>\n",
              "      <td>...</td>\n",
              "      <td>...</td>\n",
              "    </tr>\n",
              "    <tr>\n",
              "      <th>859</th>\n",
              "      <td>Oslo (-2015)</td>\n",
              "      <td>Annen kriminalitet</td>\n",
              "      <td>Lovbrudd anmeldt per 1 000 innbyggere</td>\n",
              "      <td>2015</td>\n",
              "      <td>0.0</td>\n",
              "    </tr>\n",
              "    <tr>\n",
              "      <th>860</th>\n",
              "      <td>Oslo (-2015)</td>\n",
              "      <td>Annen kriminalitet</td>\n",
              "      <td>Lovbrudd anmeldt per 1 000 innbyggere</td>\n",
              "      <td>2016</td>\n",
              "      <td>0.0</td>\n",
              "    </tr>\n",
              "    <tr>\n",
              "      <th>861</th>\n",
              "      <td>Oslo (-2015)</td>\n",
              "      <td>Annen kriminalitet</td>\n",
              "      <td>Lovbrudd anmeldt per 1 000 innbyggere</td>\n",
              "      <td>2017</td>\n",
              "      <td>0.0</td>\n",
              "    </tr>\n",
              "    <tr>\n",
              "      <th>862</th>\n",
              "      <td>Oslo (-2015)</td>\n",
              "      <td>Annen kriminalitet</td>\n",
              "      <td>Lovbrudd anmeldt per 1 000 innbyggere</td>\n",
              "      <td>2018</td>\n",
              "      <td>0.0</td>\n",
              "    </tr>\n",
              "    <tr>\n",
              "      <th>863</th>\n",
              "      <td>Oslo (-2015)</td>\n",
              "      <td>Annen kriminalitet</td>\n",
              "      <td>Lovbrudd anmeldt per 1 000 innbyggere</td>\n",
              "      <td>2019</td>\n",
              "      <td>0.0</td>\n",
              "    </tr>\n",
              "  </tbody>\n",
              "</table>\n",
              "<p>864 rows × 5 columns</p>\n",
              "</div>"
            ],
            "text/plain": [
              "           region          lovbruddstype  ...    år  value\n",
              "0    Oslo (-2015)  Alle lovbruddsgrupper  ...  2002    0.0\n",
              "1    Oslo (-2015)  Alle lovbruddsgrupper  ...  2003    0.0\n",
              "2    Oslo (-2015)  Alle lovbruddsgrupper  ...  2004    0.0\n",
              "3    Oslo (-2015)  Alle lovbruddsgrupper  ...  2005    0.0\n",
              "4    Oslo (-2015)  Alle lovbruddsgrupper  ...  2006    0.0\n",
              "..            ...                    ...  ...   ...    ...\n",
              "859  Oslo (-2015)     Annen kriminalitet  ...  2015    0.0\n",
              "860  Oslo (-2015)     Annen kriminalitet  ...  2016    0.0\n",
              "861  Oslo (-2015)     Annen kriminalitet  ...  2017    0.0\n",
              "862  Oslo (-2015)     Annen kriminalitet  ...  2018    0.0\n",
              "863  Oslo (-2015)     Annen kriminalitet  ...  2019    0.0\n",
              "\n",
              "[864 rows x 5 columns]"
            ]
          },
          "metadata": {
            "tags": []
          },
          "execution_count": 413
        }
      ]
    },
    {
      "cell_type": "code",
      "metadata": {
        "id": "idd8NwHZIS7u",
        "outputId": "3dd88dff-610b-4bd9-c85c-15960ffbc46f",
        "colab": {
          "base_uri": "https://localhost:8080/",
          "height": 119
        }
      },
      "source": [
        "df_08485.dtypes"
      ],
      "execution_count": null,
      "outputs": [
        {
          "output_type": "execute_result",
          "data": {
            "text/plain": [
              "region                 object\n",
              "lovbruddstype          object\n",
              "statistikkvariabel     object\n",
              "år                      int64\n",
              "value                 float64\n",
              "dtype: object"
            ]
          },
          "metadata": {
            "tags": []
          },
          "execution_count": 414
        }
      ]
    },
    {
      "cell_type": "code",
      "metadata": {
        "id": "Xi7bZ03lIaDt"
      },
      "source": [
        "df_08485['Lovbrudd anmeldt per 1 000 innbyggere'] = df_08485['value'].where(df_08485['statistikkvariabel'] == 'Lovbrudd anmeldt per 1 000 innbyggere')\n",
        "df_08485['Lovbrudd anmeldt'] = df_08485['value'].where(df_08485['statistikkvariabel'] != 'Lovbrudd anmeldt per 1 000 innbyggere' )\n",
        "del df_08485['statistikkvariabel']\n",
        "del df_08485['region'] \n",
        "del df_08485['value']\n",
        "df_08485 = df_08485.fillna(0)"
      ],
      "execution_count": null,
      "outputs": []
    },
    {
      "cell_type": "code",
      "metadata": {
        "id": "I4FT9b45I6Tz"
      },
      "source": [
        "df_08485.to_csv('/content/clean_dataset/lovbrudd_08485.csv', sep=',', encoding='utf-8', index=False)"
      ],
      "execution_count": null,
      "outputs": []
    },
    {
      "cell_type": "markdown",
      "metadata": {
        "id": "frSD3iGQHtI4"
      },
      "source": [
        "### **df_09406**"
      ]
    },
    {
      "cell_type": "code",
      "metadata": {
        "id": "mjl-Kfr_wN5Z"
      },
      "source": [
        "df_09406 = pd.read_csv('/content/Done files/lovbrudd_09406.csv')\n",
        "df_09406"
      ],
      "execution_count": null,
      "outputs": []
    },
    {
      "cell_type": "code",
      "metadata": {
        "id": "FWUTmImM-F0O"
      },
      "source": [
        "df_09406.dtypes"
      ],
      "execution_count": null,
      "outputs": []
    },
    {
      "cell_type": "code",
      "metadata": {
        "id": "FkOiHQ9HFxXL"
      },
      "source": [
        "df_09406['oppklaringsprosent'] = df_09406['value'].where(df_09406['statistikkvariabel'] == 'Lovbrudd etterforsket. Oppklaringsprosent')\n",
        "df_09406['Lovbrudd etterforsket'] = df_09406['value'].where(df_09406['statistikkvariabel'] != 'Lovbrudd etterforsket. Oppklaringsprosent' )\n",
        "del df_09406['statistikkvariabel']\n",
        "del df_09406['value']\n",
        "df_09406 = df_09406.fillna(0)"
      ],
      "execution_count": null,
      "outputs": []
    },
    {
      "cell_type": "code",
      "metadata": {
        "id": "wgnct3_MHZkr"
      },
      "source": [
        "df_09406.to_csv('/content/clean_dataset/lovbrudd_09406.csv',sep=',', encoding='utf-8', index=False)"
      ],
      "execution_count": null,
      "outputs": []
    },
    {
      "cell_type": "markdown",
      "metadata": {
        "id": "PCLrTvNWMPHv"
      },
      "source": [
        "### **df_09408**"
      ]
    },
    {
      "cell_type": "code",
      "metadata": {
        "id": "f0-_faabYLZZ",
        "outputId": "580f5f76-c25b-40ed-cff1-3c0e633ab306",
        "colab": {
          "base_uri": "https://localhost:8080/",
          "height": 391
        }
      },
      "source": [
        "df_09408 = pd.read_csv('/content/Done files/lovbrudd_09408.csv')\n",
        "df_09408"
      ],
      "execution_count": null,
      "outputs": [
        {
          "output_type": "execute_result",
          "data": {
            "text/html": [
              "<div>\n",
              "<style scoped>\n",
              "    .dataframe tbody tr th:only-of-type {\n",
              "        vertical-align: middle;\n",
              "    }\n",
              "\n",
              "    .dataframe tbody tr th {\n",
              "        vertical-align: top;\n",
              "    }\n",
              "\n",
              "    .dataframe thead th {\n",
              "        text-align: right;\n",
              "    }\n",
              "</style>\n",
              "<table border=\"1\" class=\"dataframe\">\n",
              "  <thead>\n",
              "    <tr style=\"text-align: right;\">\n",
              "      <th></th>\n",
              "      <th>region</th>\n",
              "      <th>lovbruddstype</th>\n",
              "      <th>statistikkvariabel</th>\n",
              "      <th>år</th>\n",
              "      <th>value</th>\n",
              "    </tr>\n",
              "  </thead>\n",
              "  <tbody>\n",
              "    <tr>\n",
              "      <th>0</th>\n",
              "      <td>Oslo (-2015)</td>\n",
              "      <td>Alle lovbruddsgrupper</td>\n",
              "      <td>Lovbrudd etterforsket</td>\n",
              "      <td>2002</td>\n",
              "      <td>96824.0</td>\n",
              "    </tr>\n",
              "    <tr>\n",
              "      <th>1</th>\n",
              "      <td>Oslo (-2015)</td>\n",
              "      <td>Alle lovbruddsgrupper</td>\n",
              "      <td>Lovbrudd etterforsket</td>\n",
              "      <td>2003</td>\n",
              "      <td>94040.0</td>\n",
              "    </tr>\n",
              "    <tr>\n",
              "      <th>2</th>\n",
              "      <td>Oslo (-2015)</td>\n",
              "      <td>Alle lovbruddsgrupper</td>\n",
              "      <td>Lovbrudd etterforsket</td>\n",
              "      <td>2004</td>\n",
              "      <td>90584.0</td>\n",
              "    </tr>\n",
              "    <tr>\n",
              "      <th>3</th>\n",
              "      <td>Oslo (-2015)</td>\n",
              "      <td>Alle lovbruddsgrupper</td>\n",
              "      <td>Lovbrudd etterforsket</td>\n",
              "      <td>2005</td>\n",
              "      <td>82886.0</td>\n",
              "    </tr>\n",
              "    <tr>\n",
              "      <th>4</th>\n",
              "      <td>Oslo (-2015)</td>\n",
              "      <td>Alle lovbruddsgrupper</td>\n",
              "      <td>Lovbrudd etterforsket</td>\n",
              "      <td>2006</td>\n",
              "      <td>78678.0</td>\n",
              "    </tr>\n",
              "    <tr>\n",
              "      <th>...</th>\n",
              "      <td>...</td>\n",
              "      <td>...</td>\n",
              "      <td>...</td>\n",
              "      <td>...</td>\n",
              "      <td>...</td>\n",
              "    </tr>\n",
              "    <tr>\n",
              "      <th>777</th>\n",
              "      <td>Oslo (-2015)</td>\n",
              "      <td>Annen kriminalitet (inkl. Arbeidsmiljø)</td>\n",
              "      <td>Lovbrudd etterforsket. Oppklaringsprosent</td>\n",
              "      <td>2014</td>\n",
              "      <td>69.0</td>\n",
              "    </tr>\n",
              "    <tr>\n",
              "      <th>778</th>\n",
              "      <td>Oslo (-2015)</td>\n",
              "      <td>Annen kriminalitet (inkl. Arbeidsmiljø)</td>\n",
              "      <td>Lovbrudd etterforsket. Oppklaringsprosent</td>\n",
              "      <td>2015</td>\n",
              "      <td>0.0</td>\n",
              "    </tr>\n",
              "    <tr>\n",
              "      <th>779</th>\n",
              "      <td>Oslo (-2015)</td>\n",
              "      <td>Annen kriminalitet (inkl. Arbeidsmiljø)</td>\n",
              "      <td>Lovbrudd etterforsket. Oppklaringsprosent</td>\n",
              "      <td>2016</td>\n",
              "      <td>0.0</td>\n",
              "    </tr>\n",
              "    <tr>\n",
              "      <th>780</th>\n",
              "      <td>Oslo (-2015)</td>\n",
              "      <td>Annen kriminalitet (inkl. Arbeidsmiljø)</td>\n",
              "      <td>Lovbrudd etterforsket. Oppklaringsprosent</td>\n",
              "      <td>2017</td>\n",
              "      <td>0.0</td>\n",
              "    </tr>\n",
              "    <tr>\n",
              "      <th>781</th>\n",
              "      <td>Oslo (-2015)</td>\n",
              "      <td>Annen kriminalitet (inkl. Arbeidsmiljø)</td>\n",
              "      <td>Lovbrudd etterforsket. Oppklaringsprosent</td>\n",
              "      <td>2018</td>\n",
              "      <td>0.0</td>\n",
              "    </tr>\n",
              "  </tbody>\n",
              "</table>\n",
              "<p>782 rows × 5 columns</p>\n",
              "</div>"
            ],
            "text/plain": [
              "           region                            lovbruddstype  ...    år    value\n",
              "0    Oslo (-2015)                    Alle lovbruddsgrupper  ...  2002  96824.0\n",
              "1    Oslo (-2015)                    Alle lovbruddsgrupper  ...  2003  94040.0\n",
              "2    Oslo (-2015)                    Alle lovbruddsgrupper  ...  2004  90584.0\n",
              "3    Oslo (-2015)                    Alle lovbruddsgrupper  ...  2005  82886.0\n",
              "4    Oslo (-2015)                    Alle lovbruddsgrupper  ...  2006  78678.0\n",
              "..            ...                                      ...  ...   ...      ...\n",
              "777  Oslo (-2015)  Annen kriminalitet (inkl. Arbeidsmiljø)  ...  2014     69.0\n",
              "778  Oslo (-2015)  Annen kriminalitet (inkl. Arbeidsmiljø)  ...  2015      0.0\n",
              "779  Oslo (-2015)  Annen kriminalitet (inkl. Arbeidsmiljø)  ...  2016      0.0\n",
              "780  Oslo (-2015)  Annen kriminalitet (inkl. Arbeidsmiljø)  ...  2017      0.0\n",
              "781  Oslo (-2015)  Annen kriminalitet (inkl. Arbeidsmiljø)  ...  2018      0.0\n",
              "\n",
              "[782 rows x 5 columns]"
            ]
          },
          "metadata": {
            "tags": []
          },
          "execution_count": 421
        }
      ]
    },
    {
      "cell_type": "code",
      "metadata": {
        "id": "q91ZQPA7Y40r"
      },
      "source": [
        "df_09408['oppklaringsprosent'] = df_09408['value'].where(df_09408['statistikkvariabel'] == 'Lovbrudd etterforsket. Oppklaringsprosent')\n",
        "df_09408['Lovbrudd etterforsket'] = df_09408['value'].where(df_09408['statistikkvariabel'] != 'Lovbrudd etterforsket. Oppklaringsprosent' )\n",
        "del df_09408['statistikkvariabel']\n",
        "del df_09408['value']\n",
        "del df_09408['region']\n",
        "df_09408 = df_09408.fillna(0)"
      ],
      "execution_count": null,
      "outputs": []
    },
    {
      "cell_type": "code",
      "metadata": {
        "id": "lPtiUPxVZJM1"
      },
      "source": [
        "df_09408.to_csv('/content/clean_dataset/lovbrudd_09408.csv', sep=',', encoding='utf-8', index=False)"
      ],
      "execution_count": null,
      "outputs": []
    },
    {
      "cell_type": "markdown",
      "metadata": {
        "id": "m8RQx6p0-tFF"
      },
      "source": [
        "# **Machine learning**"
      ]
    },
    {
      "cell_type": "markdown",
      "metadata": {
        "id": "XkeQZsK5AFWg"
      },
      "source": [
        "Get the data"
      ]
    },
    {
      "cell_type": "code",
      "metadata": {
        "id": "voMGmBhcANU4"
      },
      "source": [
        "df = pd.read_csv('/content/ferdig_filer/lovbrudd_09405.csv')"
      ],
      "execution_count": null,
      "outputs": []
    },
    {
      "cell_type": "code",
      "metadata": {
        "id": "4LCKTCZDAj_O"
      },
      "source": [
        "df = df[df['value'] != 0.0]"
      ],
      "execution_count": null,
      "outputs": []
    },
    {
      "cell_type": "code",
      "metadata": {
        "id": "EbSr4LJJAuU_"
      },
      "source": [
        "df"
      ],
      "execution_count": null,
      "outputs": []
    }
  ]
}