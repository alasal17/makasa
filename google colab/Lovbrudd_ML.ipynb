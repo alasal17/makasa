{
  "nbformat": 4,
  "nbformat_minor": 0,
  "metadata": {
    "colab": {
      "name": "Lovbrudd ML.ipynb",
      "provenance": [],
      "collapsed_sections": [
        "xjMwVEqS-mf1",
        "P9qKlYBF37aJ",
        "xcACoIJ0Evbb",
        "0fe3zp8PBfSf"
      ],
      "toc_visible": true
    },
    "kernelspec": {
      "name": "python3",
      "display_name": "Python 3"
    }
  },
  "cells": [
    {
      "cell_type": "code",
      "metadata": {
        "id": "VTv-DJiwLy7j"
      },
      "source": [
        "import pandas as pd\n",
        "from sklearn.tree import DecisionTreeClassifier # Import Decision Tree Classifier\n",
        "from sklearn.model_selection import train_test_split # Import train_test_split function\n",
        "from sklearn import metrics #Import scikit-learn metrics module for accuracy calculation\n",
        "import numpy as np\n",
        "from sklearn.preprocessing import OneHotEncoder\n",
        "from sklearn.metrics import mean_absolute_error, mean_squared_error\n",
        "from sklearn.metrics import r2_score\n",
        "from sklearn.linear_model import LinearRegression, LogisticRegression\n",
        "import matplotlib.pyplot as plt\n",
        "import seaborn as sns"
      ],
      "execution_count": null,
      "outputs": []
    },
    {
      "cell_type": "code",
      "metadata": {
        "id": "bttV7X9WMKAO"
      },
      "source": [
        "df = pd.read_csv('/content/fakta_lovbrudd_Norge.csv')"
      ],
      "execution_count": null,
      "outputs": []
    },
    {
      "cell_type": "markdown",
      "metadata": {
        "id": "xjMwVEqS-mf1"
      },
      "source": [
        "### **Get data and fill in missing values**"
      ]
    },
    {
      "cell_type": "code",
      "metadata": {
        "id": "k4f8m6IwMQ9r"
      },
      "source": [
        "del df['Unnamed: 0']"
      ],
      "execution_count": null,
      "outputs": []
    },
    {
      "cell_type": "code",
      "metadata": {
        "id": "dcXVcHPao5F0"
      },
      "source": [
        "df_copy = df.copy()"
      ],
      "execution_count": null,
      "outputs": []
    },
    {
      "cell_type": "markdown",
      "metadata": {
        "id": "IjQtzmfNzpjx"
      },
      "source": [
        "INDEX"
      ]
    },
    {
      "cell_type": "code",
      "metadata": {
        "id": "ny1ItgjwzpIv"
      },
      "source": [
        "df_copy['dato'] = pd.to_datetime(df_copy['år'], format='%Y', )"
      ],
      "execution_count": null,
      "outputs": []
    },
    {
      "cell_type": "markdown",
      "metadata": {
        "id": "bjBeUPu-1G3g"
      },
      "source": [
        "***New columns and lag***"
      ]
    },
    {
      "cell_type": "code",
      "metadata": {
        "id": "tM6Gbwt0qmxc"
      },
      "source": [
        "# df_copy = df_copy.sort_values(['lovbruddstype', 'dato'])\n",
        "# df_copy['Value i %'] = df_copy['value'].pct_change()\n",
        "# df_copy['lag_1'] = df_copy['Value i %'].shift(1)\n",
        "# df_copy['lag_2'] = df_copy['lag_1'].shift(2)\n",
        "# df_copy['lag_3'] = df_copy['lag_2'].shift(3)\n",
        "\n",
        "# df_copy['endring'] = df_copy['value'] - df_copy['året før']\n",
        "# df_copy['% endring fra året før'] = df_copy['endring'].pct_change()"
      ],
      "execution_count": null,
      "outputs": []
    },
    {
      "cell_type": "code",
      "metadata": {
        "id": "q6-bTT3jsiJW"
      },
      "source": [
        "df_copy = df_copy.fillna(0)"
      ],
      "execution_count": null,
      "outputs": []
    },
    {
      "cell_type": "markdown",
      "metadata": {
        "id": "SGIGmXoP340W"
      },
      "source": [
        "### **Data prep.**"
      ]
    },
    {
      "cell_type": "markdown",
      "metadata": {
        "id": "P9qKlYBF37aJ"
      },
      "source": [
        "### **OneHotEncoder**"
      ]
    },
    {
      "cell_type": "code",
      "metadata": {
        "id": "DnrryEmgVNhN"
      },
      "source": [
        "y_2d = np.array(df_copy['lovbruddstype']).reshape(-1,1)\n",
        "\n",
        "class_ohe = OneHotEncoder(sparse=False)\n",
        "class_ohe.fit(y_2d)\n",
        "ohe_lovbrudd = class_ohe.transform(y_2d)"
      ],
      "execution_count": null,
      "outputs": []
    },
    {
      "cell_type": "code",
      "metadata": {
        "id": "XbXvIseZYR-3"
      },
      "source": [
        "header_list = class_ohe.categories_"
      ],
      "execution_count": null,
      "outputs": []
    },
    {
      "cell_type": "code",
      "metadata": {
        "id": "rTBAEURNVcwK"
      },
      "source": [
        "ohe_lovbrudd_df = pd.DataFrame(ohe_lovbrudd, columns=header_list)\n",
        "ohe_lovbrudd_df = ohe_lovbrudd_df.reset_index()"
      ],
      "execution_count": null,
      "outputs": []
    },
    {
      "cell_type": "code",
      "metadata": {
        "id": "VJdMC9f7d2jt"
      },
      "source": [
        "# [col[0][1:] if i!=0 else col[0] for i, col in enumerate(ohe_lovbrudd_df.columns)]"
      ],
      "execution_count": null,
      "outputs": []
    },
    {
      "cell_type": "code",
      "metadata": {
        "id": "uH0dgOoEVtXb"
      },
      "source": [
        "full_df_col = [col[0][1:] if i!=0 else col[0] for i, col in enumerate(ohe_lovbrudd_df.columns)]+['value',\t'lovbruddstype',\t'år',\t'dato']\n",
        "\n",
        "full_df = pd.concat([ohe_lovbrudd_df, df_copy[['value',\t'lovbruddstype',\t'år',\t'dato']]], axis=1, join='outer')\n",
        "full_df.columns = full_df_col"
      ],
      "execution_count": null,
      "outputs": []
    },
    {
      "cell_type": "code",
      "metadata": {
        "id": "-SeBDA2wZxzS"
      },
      "source": [
        "#full_df = full_df.set_index('dato')"
      ],
      "execution_count": null,
      "outputs": []
    },
    {
      "cell_type": "code",
      "metadata": {
        "id": "MKuvD2Wd4eSc",
        "outputId": "582c0a1b-72d6-4b74-938e-b9f1fdfb97eb",
        "colab": {
          "base_uri": "https://localhost:8080/",
          "height": 273
        }
      },
      "source": [
        "del full_df['index']\n",
        "del full_df['lovbruddstype']\n",
        "del full_df['år']\n",
        "full_df.head(2)"
      ],
      "execution_count": null,
      "outputs": [
        {
          "output_type": "execute_result",
          "data": {
            "text/html": [
              "<div>\n",
              "<style scoped>\n",
              "    .dataframe tbody tr th:only-of-type {\n",
              "        vertical-align: middle;\n",
              "    }\n",
              "\n",
              "    .dataframe tbody tr th {\n",
              "        vertical-align: top;\n",
              "    }\n",
              "\n",
              "    .dataframe thead th {\n",
              "        text-align: right;\n",
              "    }\n",
              "</style>\n",
              "<table border=\"1\" class=\"dataframe\">\n",
              "  <thead>\n",
              "    <tr style=\"text-align: right;\">\n",
              "      <th></th>\n",
              "      <th>Alkohollovovertredelse</th>\n",
              "      <th>Alkohollovovertredelse, i alt</th>\n",
              "      <th>Allmennfarlig forbrytelse</th>\n",
              "      <th>Allmennfarlig forgiftning og alvorlig miljølovbrudd</th>\n",
              "      <th>Andre eller uspesifiserte trusler</th>\n",
              "      <th>Annen bruk og besittelse av andres eiendel</th>\n",
              "      <th>Annen eller uspesifisert dokument- og ID-krenkelse</th>\n",
              "      <th>Annen eller uspesifisert integritetskrenkelse</th>\n",
              "      <th>Annen eller uspesifisert myndighetskrenkelse</th>\n",
              "      <th>Annen eller uspesifisert ordensforstyrrelse</th>\n",
              "      <th>Annen eller uspesifisert straffelovgivning</th>\n",
              "      <th>Annen eller uspesifisert utlendingslovgivning</th>\n",
              "      <th>Annen eller uspesifisert veitrafikkovertredelse</th>\n",
              "      <th>Annen seksuell handling uten samtykke</th>\n",
              "      <th>Annen seksuell omgang</th>\n",
              "      <th>Annen transport- og trafikklovgivning</th>\n",
              "      <th>Annen vold og mishandling</th>\n",
              "      <th>Annet eller uspesifisert brukstyveri av motorkjøretøy</th>\n",
              "      <th>Annet eller uspesifisert grovt tyveri</th>\n",
              "      <th>Annet eller uspesifisert heleri og hvitvasking</th>\n",
              "      <th>Annet eller uspesifisert mindre skadeverk</th>\n",
              "      <th>Annet eller uspesifisert mindre tyveri</th>\n",
              "      <th>Annet eller uspesifisert ran og utpressing</th>\n",
              "      <th>Annet eller uspesifisert rusmiddellovbrudd</th>\n",
              "      <th>Annet eller uspesifisert seksuallovbrudd</th>\n",
              "      <th>Annet eller uspesifisert skadeverk</th>\n",
              "      <th>Annet eller uspesifisert tyveri</th>\n",
              "      <th>Annet eller uspesifisert voldslovbrudd</th>\n",
              "      <th>Annet eller uspesifisert våpenlovbrudd</th>\n",
              "      <th>Annet grovt skadeverk</th>\n",
              "      <th>Annet grovt tyveri</th>\n",
              "      <th>Annet lovbrudd</th>\n",
              "      <th>Annet natur- og miljølovbrudd</th>\n",
              "      <th>Annet næringslivs- og økonomilovbrudd</th>\n",
              "      <th>Annet pålegg fra politi og annen myndighet</th>\n",
              "      <th>Annet simpelt tyveri</th>\n",
              "      <th>Annet vinningslovbrudd</th>\n",
              "      <th>Annet, allmennfarlig forbrytelse</th>\n",
              "      <th>Annet, bedrageri og utroskap</th>\n",
              "      <th>Annet, brukstyveri av motorkjøretøy</th>\n",
              "      <th>...</th>\n",
              "      <th>Tyveri, i alt</th>\n",
              "      <th>Uaktsom forvoldelse av død</th>\n",
              "      <th>Uaktsom forvoldelse av ildebrann</th>\n",
              "      <th>Uaktsom kroppsskade</th>\n",
              "      <th>Uaktsom legemsbeskadigelse</th>\n",
              "      <th>Uaktsomt drap</th>\n",
              "      <th>Uaktsomt påført betydelig skade eller død</th>\n",
              "      <th>Uberettiget adgang og opphold</th>\n",
              "      <th>Ulovlig hastighet</th>\n",
              "      <th>Ulovlig påvirkning av offentlig tjenestemann</th>\n",
              "      <th>Underslag</th>\n",
              "      <th>Underslag, i alt</th>\n",
              "      <th>Uriktig anklage</th>\n",
              "      <th>Uriktig forklaring</th>\n",
              "      <th>Uriktig forklaring og anklage</th>\n",
              "      <th>Urinering</th>\n",
              "      <th>Uten gyldig førerkort</th>\n",
              "      <th>Utlendingslovgivning</th>\n",
              "      <th>Utpressing</th>\n",
              "      <th>Utpressing og ran</th>\n",
              "      <th>Utroskap</th>\n",
              "      <th>Veitrafikkovertredelse</th>\n",
              "      <th>Vinningsforbrytelse i den offentlig tjeneste</th>\n",
              "      <th>Vold mot offentlig tjenestemann</th>\n",
              "      <th>Vold og mishandling</th>\n",
              "      <th>Voldslovbrudd</th>\n",
              "      <th>Voldtekt</th>\n",
              "      <th>Voldtekt, annen eller uspesifisert alder</th>\n",
              "      <th>Voldtekt, barn under 14 år</th>\n",
              "      <th>Voldtekt, forsøk</th>\n",
              "      <th>Voldtekt, i alt</th>\n",
              "      <th>Voldtektsforsøk</th>\n",
              "      <th>Våpen-, brann- og eksplosivlovgivning</th>\n",
              "      <th>Åger og lykkespill</th>\n",
              "      <th>Ærekrenkelse</th>\n",
              "      <th>Økonomisk utroskap</th>\n",
              "      <th>lle lovbruddstyper</th>\n",
              "      <th>lle typer lovbrudd</th>\n",
              "      <th>value</th>\n",
              "      <th>dato</th>\n",
              "    </tr>\n",
              "  </thead>\n",
              "  <tbody>\n",
              "    <tr>\n",
              "      <th>0</th>\n",
              "      <td>0.0</td>\n",
              "      <td>0.0</td>\n",
              "      <td>0.0</td>\n",
              "      <td>0.0</td>\n",
              "      <td>0.0</td>\n",
              "      <td>0.0</td>\n",
              "      <td>0.0</td>\n",
              "      <td>0.0</td>\n",
              "      <td>0.0</td>\n",
              "      <td>0.0</td>\n",
              "      <td>0.0</td>\n",
              "      <td>0.0</td>\n",
              "      <td>0.0</td>\n",
              "      <td>0.0</td>\n",
              "      <td>0.0</td>\n",
              "      <td>0.0</td>\n",
              "      <td>0.0</td>\n",
              "      <td>0.0</td>\n",
              "      <td>0.0</td>\n",
              "      <td>0.0</td>\n",
              "      <td>0.0</td>\n",
              "      <td>0.0</td>\n",
              "      <td>0.0</td>\n",
              "      <td>0.0</td>\n",
              "      <td>0.0</td>\n",
              "      <td>0.0</td>\n",
              "      <td>0.0</td>\n",
              "      <td>0.0</td>\n",
              "      <td>0.0</td>\n",
              "      <td>0.0</td>\n",
              "      <td>0.0</td>\n",
              "      <td>0.0</td>\n",
              "      <td>0.0</td>\n",
              "      <td>0.0</td>\n",
              "      <td>0.0</td>\n",
              "      <td>0.0</td>\n",
              "      <td>0.0</td>\n",
              "      <td>0.0</td>\n",
              "      <td>0.0</td>\n",
              "      <td>0.0</td>\n",
              "      <td>...</td>\n",
              "      <td>0.0</td>\n",
              "      <td>0.0</td>\n",
              "      <td>0.0</td>\n",
              "      <td>0.0</td>\n",
              "      <td>0.0</td>\n",
              "      <td>0.0</td>\n",
              "      <td>0.0</td>\n",
              "      <td>0.0</td>\n",
              "      <td>0.0</td>\n",
              "      <td>0.0</td>\n",
              "      <td>0.0</td>\n",
              "      <td>0.0</td>\n",
              "      <td>0.0</td>\n",
              "      <td>0.0</td>\n",
              "      <td>0.0</td>\n",
              "      <td>0.0</td>\n",
              "      <td>0.0</td>\n",
              "      <td>0.0</td>\n",
              "      <td>0.0</td>\n",
              "      <td>0.0</td>\n",
              "      <td>0.0</td>\n",
              "      <td>0.0</td>\n",
              "      <td>0.0</td>\n",
              "      <td>0.0</td>\n",
              "      <td>0.0</td>\n",
              "      <td>0.0</td>\n",
              "      <td>0.0</td>\n",
              "      <td>0.0</td>\n",
              "      <td>0.0</td>\n",
              "      <td>0.0</td>\n",
              "      <td>0.0</td>\n",
              "      <td>0.0</td>\n",
              "      <td>0.0</td>\n",
              "      <td>0.0</td>\n",
              "      <td>1.0</td>\n",
              "      <td>0.0</td>\n",
              "      <td>0.0</td>\n",
              "      <td>0.0</td>\n",
              "      <td>1451.0</td>\n",
              "      <td>1996-01-01</td>\n",
              "    </tr>\n",
              "    <tr>\n",
              "      <th>1</th>\n",
              "      <td>0.0</td>\n",
              "      <td>0.0</td>\n",
              "      <td>0.0</td>\n",
              "      <td>0.0</td>\n",
              "      <td>0.0</td>\n",
              "      <td>0.0</td>\n",
              "      <td>0.0</td>\n",
              "      <td>0.0</td>\n",
              "      <td>0.0</td>\n",
              "      <td>0.0</td>\n",
              "      <td>0.0</td>\n",
              "      <td>0.0</td>\n",
              "      <td>0.0</td>\n",
              "      <td>0.0</td>\n",
              "      <td>0.0</td>\n",
              "      <td>0.0</td>\n",
              "      <td>0.0</td>\n",
              "      <td>0.0</td>\n",
              "      <td>0.0</td>\n",
              "      <td>0.0</td>\n",
              "      <td>0.0</td>\n",
              "      <td>0.0</td>\n",
              "      <td>0.0</td>\n",
              "      <td>0.0</td>\n",
              "      <td>0.0</td>\n",
              "      <td>0.0</td>\n",
              "      <td>0.0</td>\n",
              "      <td>0.0</td>\n",
              "      <td>0.0</td>\n",
              "      <td>0.0</td>\n",
              "      <td>0.0</td>\n",
              "      <td>0.0</td>\n",
              "      <td>0.0</td>\n",
              "      <td>0.0</td>\n",
              "      <td>0.0</td>\n",
              "      <td>0.0</td>\n",
              "      <td>0.0</td>\n",
              "      <td>0.0</td>\n",
              "      <td>0.0</td>\n",
              "      <td>0.0</td>\n",
              "      <td>...</td>\n",
              "      <td>0.0</td>\n",
              "      <td>0.0</td>\n",
              "      <td>0.0</td>\n",
              "      <td>0.0</td>\n",
              "      <td>0.0</td>\n",
              "      <td>0.0</td>\n",
              "      <td>0.0</td>\n",
              "      <td>0.0</td>\n",
              "      <td>0.0</td>\n",
              "      <td>0.0</td>\n",
              "      <td>0.0</td>\n",
              "      <td>0.0</td>\n",
              "      <td>0.0</td>\n",
              "      <td>0.0</td>\n",
              "      <td>0.0</td>\n",
              "      <td>0.0</td>\n",
              "      <td>0.0</td>\n",
              "      <td>0.0</td>\n",
              "      <td>0.0</td>\n",
              "      <td>0.0</td>\n",
              "      <td>0.0</td>\n",
              "      <td>0.0</td>\n",
              "      <td>0.0</td>\n",
              "      <td>0.0</td>\n",
              "      <td>0.0</td>\n",
              "      <td>0.0</td>\n",
              "      <td>0.0</td>\n",
              "      <td>0.0</td>\n",
              "      <td>0.0</td>\n",
              "      <td>0.0</td>\n",
              "      <td>0.0</td>\n",
              "      <td>0.0</td>\n",
              "      <td>0.0</td>\n",
              "      <td>1.0</td>\n",
              "      <td>0.0</td>\n",
              "      <td>0.0</td>\n",
              "      <td>0.0</td>\n",
              "      <td>0.0</td>\n",
              "      <td>48.0</td>\n",
              "      <td>1996-01-01</td>\n",
              "    </tr>\n",
              "  </tbody>\n",
              "</table>\n",
              "<p>2 rows × 377 columns</p>\n",
              "</div>"
            ],
            "text/plain": [
              "   Alkohollovovertredelse  Alkohollovovertredelse, i alt  ...   value       dato\n",
              "0                     0.0                            0.0  ...  1451.0 1996-01-01\n",
              "1                     0.0                            0.0  ...    48.0 1996-01-01\n",
              "\n",
              "[2 rows x 377 columns]"
            ]
          },
          "metadata": {
            "tags": []
          },
          "execution_count": 1070
        }
      ]
    },
    {
      "cell_type": "code",
      "metadata": {
        "id": "3n2jF72oVXAz"
      },
      "source": [
        "full_df"
      ],
      "execution_count": null,
      "outputs": []
    },
    {
      "cell_type": "code",
      "metadata": {
        "id": "y09Us1jf-Ki3"
      },
      "source": [
        "full_df.to_csv('full_dataset_lovbrudd_Norge.csv', encoding='utf-8', sep=',', index=False)"
      ],
      "execution_count": null,
      "outputs": []
    },
    {
      "cell_type": "code",
      "metadata": {
        "id": "4FGI9Khij5UO"
      },
      "source": [
        "ML_df = full_df\n",
        "DL_df = full_df"
      ],
      "execution_count": null,
      "outputs": []
    },
    {
      "cell_type": "markdown",
      "metadata": {
        "id": "4tMQWUO88oVV"
      },
      "source": [
        "### **ML**"
      ]
    },
    {
      "cell_type": "code",
      "metadata": {
        "id": "TqQlu2YCEw1O"
      },
      "source": [
        "ML_df = ML_df.fillna(0)"
      ],
      "execution_count": null,
      "outputs": []
    },
    {
      "cell_type": "code",
      "metadata": {
        "id": "QcESi-6b7fJg"
      },
      "source": [
        "full_df = ML_df\n",
        "full_df = full_df.set_index('dato')"
      ],
      "execution_count": null,
      "outputs": []
    },
    {
      "cell_type": "markdown",
      "metadata": {
        "id": "HNH6-wMH8aj2"
      },
      "source": [
        "***Kun en X-verdi***"
      ]
    },
    {
      "cell_type": "code",
      "metadata": {
        "id": "pQuzPVDMkXWu"
      },
      "source": [
        "X_df = full_df[['lle lovbruddstyper']]\n",
        "y_df = full_df['value']"
      ],
      "execution_count": null,
      "outputs": []
    },
    {
      "cell_type": "code",
      "metadata": {
        "id": "PgUT7J99Vmh1"
      },
      "source": [
        "full_df.head(1)"
      ],
      "execution_count": null,
      "outputs": []
    },
    {
      "cell_type": "markdown",
      "metadata": {
        "id": "LAZQTbBl8gIT"
      },
      "source": [
        "***Flere X-verdier***"
      ]
    },
    {
      "cell_type": "code",
      "metadata": {
        "id": "DdqugWE5V5Ky"
      },
      "source": [
        "del full_df['index']"
      ],
      "execution_count": null,
      "outputs": []
    },
    {
      "cell_type": "code",
      "metadata": {
        "id": "66sc5HN2MXTN"
      },
      "source": [
        "X_df =  full_df.loc[:, full_df.columns != 'value']\n",
        "X_df =  full_df.loc[:, full_df.columns != 'lovbruddstype']\n",
        "X_df =  full_df.loc[:, full_df.columns != 'år']\n",
        "\n",
        "y_df = full_df['value']"
      ],
      "execution_count": null,
      "outputs": []
    },
    {
      "cell_type": "code",
      "metadata": {
        "id": "Q2xfJsenWJjP"
      },
      "source": [
        "X_df"
      ],
      "execution_count": null,
      "outputs": []
    },
    {
      "cell_type": "markdown",
      "metadata": {
        "id": "nsWi7XkT8q_Z"
      },
      "source": [
        "***Split dataset to train and test set***"
      ]
    },
    {
      "cell_type": "code",
      "metadata": {
        "id": "gxPiWP06MvMH"
      },
      "source": [
        "X_train, X_test, y_train, y_test = train_test_split(X_df, y_df, test_size=0.2, random_state=420)"
      ],
      "execution_count": null,
      "outputs": []
    },
    {
      "cell_type": "code",
      "metadata": {
        "id": "YZlvovz7v2fC"
      },
      "source": [
        "X_train = np.c_[X_train]\n",
        "X_test = np.c_[X_test]\n",
        "\n",
        "# X_train = np.nan_to_num(X_train)\n",
        "# X_test = np.nan_to_num(X_test)\n"
      ],
      "execution_count": null,
      "outputs": []
    },
    {
      "cell_type": "code",
      "metadata": {
        "id": "-cBIJvxY0OjM"
      },
      "source": [
        "y_train = np.c_[y_train]\n",
        "y_test = np.c_[y_test]\n",
        "\n",
        "# y_train = np.nan_to_num(y_train)\n",
        "# y_test = np.nan_to_num(y_test)"
      ],
      "execution_count": null,
      "outputs": []
    },
    {
      "cell_type": "code",
      "metadata": {
        "id": "KFSTpj1V8_F0",
        "outputId": "a14dfdf0-bcea-4c16-f69d-cf00dfb709a5",
        "colab": {
          "base_uri": "https://localhost:8080/",
          "height": 84
        }
      },
      "source": [
        "print('X_train: ', X_train.shape)\n",
        "print('y_train: ', y_train.shape)\n",
        "\n",
        "print('X_test: ', X_test.shape)\n",
        "print('y_test: ', y_test.shape)"
      ],
      "execution_count": null,
      "outputs": [
        {
          "output_type": "stream",
          "text": [
            "X_train:  (5150, 375)\n",
            "y_train:  (5150, 1)\n",
            "X_test:  (1288, 375)\n",
            "y_test:  (1288, 1)\n"
          ],
          "name": "stdout"
        }
      ]
    },
    {
      "cell_type": "code",
      "metadata": {
        "id": "qn6hFRj1xPVL"
      },
      "source": [
        "# y_train = y_train.astype(int)\n",
        "# X_train = X_train.astype(int)"
      ],
      "execution_count": null,
      "outputs": []
    },
    {
      "cell_type": "markdown",
      "metadata": {
        "id": "xcACoIJ0Evbb"
      },
      "source": [
        "### **Models**"
      ]
    },
    {
      "cell_type": "code",
      "metadata": {
        "id": "Pf-GEz-Wpnb4"
      },
      "source": [
        "def rmse_mae_and_r2(model,x,y, y_pred):\n",
        "  rmse = (np.sqrt(mean_squared_error(y, y_pred)))\n",
        "  r2 = r2_score(y, y_pred)\n",
        "  ame = mean_absolute_error(y, y_pred)\n",
        "  print(\"The model performance\")\n",
        "  print(\"--------------------------------------\")\n",
        "  print('RMSE is {}'.format(rmse))\n",
        "  print('MAE is {}'.format(ame))\n",
        "  print('R2 score is {} '.format(r2))\n",
        "  print(\"\\n\")"
      ],
      "execution_count": null,
      "outputs": []
    },
    {
      "cell_type": "code",
      "metadata": {
        "id": "7zVWqr6uM7V-"
      },
      "source": [
        "clf = DecisionTreeClassifier()\n",
        "\n",
        "# Train Decision Tree Classifer\n",
        "clf = clf.fit(X_train,y_train)\n",
        "\n",
        "#Predict the response for test dataset\n",
        "y_pred = clf.predict(X_test)"
      ],
      "execution_count": null,
      "outputs": []
    },
    {
      "cell_type": "code",
      "metadata": {
        "id": "hZem9yW7p0_E",
        "outputId": "17d99761-c053-45ec-f32a-2635c3b9ce67",
        "colab": {
          "base_uri": "https://localhost:8080/",
          "height": 134
        }
      },
      "source": [
        "rmse_mae_and_r2(clf,X_test, y_test, y_pred)"
      ],
      "execution_count": null,
      "outputs": [
        {
          "output_type": "stream",
          "text": [
            "The model performance\n",
            "--------------------------------------\n",
            "RMSE is 32414.566872249394\n",
            "MAE is 7076.212732919254\n",
            "R2 score is 0.8521443921056105 \n",
            "\n",
            "\n"
          ],
          "name": "stdout"
        }
      ]
    },
    {
      "cell_type": "code",
      "metadata": {
        "id": "nkVHVqLArbmS",
        "outputId": "8d0fa4dc-9edd-44c4-8cc6-cc2a3d3f7423",
        "colab": {
          "base_uri": "https://localhost:8080/",
          "height": 34
        }
      },
      "source": [
        "lr_mode = LinearRegression()\n",
        "lr_mode.fit(X_train, y_train)"
      ],
      "execution_count": null,
      "outputs": [
        {
          "output_type": "execute_result",
          "data": {
            "text/plain": [
              "LinearRegression(copy_X=True, fit_intercept=True, n_jobs=None, normalize=False)"
            ]
          },
          "metadata": {
            "tags": []
          },
          "execution_count": 1083
        }
      ]
    },
    {
      "cell_type": "code",
      "metadata": {
        "id": "etBVkyxyr3Vm"
      },
      "source": [
        "lr_y_preds = lr_mode.predict(X_test)"
      ],
      "execution_count": null,
      "outputs": []
    },
    {
      "cell_type": "code",
      "metadata": {
        "id": "cL-D77m7r9DK",
        "outputId": "4cd9879f-3059-4082-db4c-be67732de8e4",
        "colab": {
          "base_uri": "https://localhost:8080/",
          "height": 134
        }
      },
      "source": [
        "rmse_mae_and_r2(model=lr_mode, x=X_test, y=y_test, y_pred=lr_y_preds)  "
      ],
      "execution_count": null,
      "outputs": [
        {
          "output_type": "stream",
          "text": [
            "The model performance\n",
            "--------------------------------------\n",
            "RMSE is 17138.64199709704\n",
            "MAE is 3603.804347826087\n",
            "R2 score is 0.958665739753149 \n",
            "\n",
            "\n"
          ],
          "name": "stdout"
        }
      ]
    },
    {
      "cell_type": "code",
      "metadata": {
        "id": "7ux0authUv86"
      },
      "source": [
        "score_df = pd.DataFrame()"
      ],
      "execution_count": null,
      "outputs": []
    },
    {
      "cell_type": "code",
      "metadata": {
        "id": "1KFJVNY32MIG",
        "outputId": "8257d630-c31f-42a0-f2b0-4aab871bb9ab",
        "colab": {
          "base_uri": "https://localhost:8080/",
          "height": 34
        }
      },
      "source": [
        "lr_mode.intercept_"
      ],
      "execution_count": null,
      "outputs": [
        {
          "output_type": "execute_result",
          "data": {
            "text/plain": [
              "array([1.40510305e+17])"
            ]
          },
          "metadata": {
            "tags": []
          },
          "execution_count": 1086
        }
      ]
    },
    {
      "cell_type": "code",
      "metadata": {
        "id": "lPqY0QXLyI4n",
        "outputId": "722f9118-3245-4071-8264-e45486939b52",
        "colab": {
          "base_uri": "https://localhost:8080/",
          "height": 34
        }
      },
      "source": [
        "import xgboost as xgb\n",
        "\n",
        "xgb_model = xgb.XGBRegressor(objective=\"reg:linear\", random_state=42)\n",
        "xgb_model.fit(X_train, y_train)\n",
        "y_pred_r = xgb_model.predict(X_test)"
      ],
      "execution_count": null,
      "outputs": [
        {
          "output_type": "stream",
          "text": [
            "[12:05:23] WARNING: /workspace/src/objective/regression_obj.cu:152: reg:linear is now deprecated in favor of reg:squarederror.\n"
          ],
          "name": "stdout"
        }
      ]
    },
    {
      "cell_type": "code",
      "metadata": {
        "id": "dfwZyDQ9yRxq",
        "outputId": "a28aeaa1-e17e-4db2-cf54-0ae3d3b84615",
        "colab": {
          "base_uri": "https://localhost:8080/",
          "height": 134
        }
      },
      "source": [
        "rmse_mae_and_r2(model=xgb_model, x=X_test, y=y_test, y_pred=y_pred_r)  "
      ],
      "execution_count": null,
      "outputs": [
        {
          "output_type": "stream",
          "text": [
            "The model performance\n",
            "--------------------------------------\n",
            "RMSE is 22319.24183689927\n",
            "MAE is 12676.647520077155\n",
            "R2 score is 0.9299002883835772 \n",
            "\n",
            "\n"
          ],
          "name": "stdout"
        }
      ]
    },
    {
      "cell_type": "code",
      "metadata": {
        "id": "lP0ocPTGy2Oq",
        "outputId": "e8d7550f-cd23-4bab-8cc9-c6684ee90c0c",
        "colab": {
          "base_uri": "https://localhost:8080/",
          "height": 296
        }
      },
      "source": [
        "plt.plot(X_test,y_pred_r)\n",
        "plt.xlabel('T')\n",
        "plt.ylabel('y_pred_r')"
      ],
      "execution_count": null,
      "outputs": [
        {
          "output_type": "execute_result",
          "data": {
            "text/plain": [
              "Text(0, 0.5, 'y_pred_r')"
            ]
          },
          "metadata": {
            "tags": []
          },
          "execution_count": 1089
        },
        {
          "output_type": "display_data",
          "data": {
            "image/png": "[encoded data removed]",
            "text/plain": [
              "<Figure size 432x288 with 1 Axes>"
            ]
          },
          "metadata": {
            "tags": [],
            "needs_background": "light"
          }
        }
      ]
    },
    {
      "cell_type": "code",
      "metadata": {
        "id": "oE4X8r-jM3I-"
      },
      "source": [
        ""
      ],
      "execution_count": null,
      "outputs": []
    },
    {
      "cell_type": "markdown",
      "metadata": {
        "id": "0fe3zp8PBfSf"
      },
      "source": [
        "# **DL**"
      ]
    },
    {
      "cell_type": "code",
      "metadata": {
        "id": "WaSUSKGtCArb"
      },
      "source": [
        "from tensorflow.keras.layers import Dense, Input, Conv2D, MaxPooling2D, Flatten, BatchNormalization, LSTM, SimpleRNN, Embedding, Dropout\n",
        "from tensorflow.keras.models import Model, Sequential\n",
        "from tensorflow.keras.losses import SparseCategoricalCrossentropy\n",
        "import tensorflow as tf\n",
        "\n",
        "from sklearn.metrics import accuracy_score\n",
        "from sklearn.model_selection import train_test_split\n",
        "from sklearn.datasets import fetch_openml\n",
        "from sklearn.preprocessing import OneHotEncoder,  MinMaxScaler, StandardScaler\n",
        "import tensorflow as tf\n",
        "from sklearn.linear_model import LogisticRegression\n",
        "\n",
        "import matplotlib.pyplot as plt\n",
        "import numpy as np\n",
        "import pandas as pd"
      ],
      "execution_count": null,
      "outputs": []
    },
    {
      "cell_type": "code",
      "metadata": {
        "id": "KYdX6Ss12SK9"
      },
      "source": [
        "tf.keras.backend.clear_session()"
      ],
      "execution_count": null,
      "outputs": []
    },
    {
      "cell_type": "markdown",
      "metadata": {
        "id": "0xJi7O8p9cXW"
      },
      "source": [
        "***Kun en X-verdi***"
      ]
    },
    {
      "cell_type": "code",
      "metadata": {
        "id": "8QsyTuFG_OWr"
      },
      "source": [
        "DL_date_index_df = DL_df.set_index('dato')"
      ],
      "execution_count": null,
      "outputs": []
    },
    {
      "cell_type": "code",
      "metadata": {
        "id": "6Sm65hZkVhp4"
      },
      "source": [
        "X_df = DL_date_index_df['lle typer lovbrudd']\n",
        "y_df = DL_date_index_df['value']"
      ],
      "execution_count": null,
      "outputs": []
    },
    {
      "cell_type": "code",
      "metadata": {
        "id": "BsqLQgmK_GEc"
      },
      "source": [
        "y_df"
      ],
      "execution_count": null,
      "outputs": []
    },
    {
      "cell_type": "markdown",
      "metadata": {
        "id": "B3z88Z-b9mG2"
      },
      "source": [
        "***Flere X-verdier***"
      ]
    },
    {
      "cell_type": "code",
      "metadata": {
        "id": "KLlIhKa79gBW"
      },
      "source": [
        "X_df_all = DL_date_index_df.loc[:, DL_date_index_df.columns != 'value']\n",
        "y_df_all = DL_date_index_df['value']"
      ],
      "execution_count": null,
      "outputs": []
    },
    {
      "cell_type": "code",
      "metadata": {
        "id": "CuUtRtD6QIEA"
      },
      "source": [
        "def create_dataset(X, y, date_steps=1):\n",
        "    Xs, ys = [], []\n",
        "    for i in range(len(X) - date_steps):\n",
        "        v = X.iloc[i:(i + date_steps)].values\n",
        "        Xs.append(v)\n",
        "        ys.append(y.iloc[i + date_steps])\n",
        "    return np.array(Xs), np.array(ys)\n",
        "\n",
        "date_steps=25\n",
        "    \n",
        "X_train_, y_train_ = create_dataset(X_df_all, y_df_all, date_steps)\n"
      ],
      "execution_count": null,
      "outputs": []
    },
    {
      "cell_type": "code",
      "metadata": {
        "id": "kGBtWhxR-NSb",
        "outputId": "141ad088-58bf-4aff-96a6-8b1bbdbacebf",
        "colab": {
          "base_uri": "https://localhost:8080/",
          "height": 34
        }
      },
      "source": [
        "X_train_.shape"
      ],
      "execution_count": null,
      "outputs": [
        {
          "output_type": "execute_result",
          "data": {
            "text/plain": [
              "(6413, 25, 375)"
            ]
          },
          "metadata": {
            "tags": []
          },
          "execution_count": 987
        }
      ]
    },
    {
      "cell_type": "code",
      "metadata": {
        "id": "r77YqLgQMxD1",
        "outputId": "e84b2cd8-9692-4d82-cf3b-897ec5cf3c2b",
        "colab": {
          "base_uri": "https://localhost:8080/",
          "height": 50
        }
      },
      "source": [
        "print('X_train.shape: ' , X_train_.shape)\n",
        "print('y_train.shape: ' , y_train_.shape)\n",
        "\n",
        "# print('X_val.shape: ' , X_test_.shape)\n",
        "# print('y_val.shape: ' , y_test_.shape)"
      ],
      "execution_count": null,
      "outputs": [
        {
          "output_type": "stream",
          "text": [
            "X_train.shape:  (6413, 25, 376)\n",
            "y_train.shape:  (6413,)\n"
          ],
          "name": "stdout"
        }
      ]
    },
    {
      "cell_type": "markdown",
      "metadata": {
        "id": "WPdZLPW3Bpja"
      },
      "source": [
        "**Model** LSTM"
      ]
    },
    {
      "cell_type": "markdown",
      "metadata": {
        "id": "5wCkZTIr-chc"
      },
      "source": [
        "***DL 3 inputs og en output***"
      ]
    },
    {
      "cell_type": "code",
      "metadata": {
        "id": "xasY_USdi_5x"
      },
      "source": [
        "X_input = Input(shape=(3, 2))\n",
        "X_input_cat = Input(shape=(1,1))\n",
        "X_input_shop = Input(shape=(1,1))\n",
        "\n",
        "embedding_layer_cat = Embedding(84, 8)(X_input_cat)\n",
        "embedding_layer_shop = Embedding(60, 5)(X_input_shop)\n",
        "\n",
        "X_prep_concat = tf.keras.layers.Concatenate()( [X_input, X_input_cat, X_input_shop])\n",
        "\n",
        "LSTM_layer = LSTM(128)(X_prep_concat)\n",
        "output = Dense(1)(LSTM_layer)\n",
        "\n",
        "\n",
        "model = Model(inputs =[X_input, X_input_cat, X_input_shop], outputs=output)"
      ],
      "execution_count": null,
      "outputs": []
    },
    {
      "cell_type": "markdown",
      "metadata": {
        "id": "rBajihPp-lNl"
      },
      "source": [
        "***DL 1 unput og en output***"
      ]
    },
    {
      "cell_type": "code",
      "metadata": {
        "id": "5rBO6JYhdYUK"
      },
      "source": [
        "X_input = Input(shape=(25, 375))\n",
        "LSTM_layer = LSTM(128)(X_input)\n",
        "dense1 = Dense(100)(LSTM_layer)\n",
        "dense2 = Dense(50)(dense1)\n",
        "output = Dense(1)(dense2)"
      ],
      "execution_count": null,
      "outputs": []
    },
    {
      "cell_type": "code",
      "metadata": {
        "id": "27j_4BvTMF2j"
      },
      "source": [
        "model = Model(inputs =[X_input], outputs=output)"
      ],
      "execution_count": null,
      "outputs": []
    },
    {
      "cell_type": "code",
      "metadata": {
        "id": "hzZ-CzQLmn_B"
      },
      "source": [
        "model.compile(optimizer='adam',  loss='mse', metrics=['mae'])"
      ],
      "execution_count": null,
      "outputs": []
    },
    {
      "cell_type": "code",
      "metadata": {
        "id": "_KtwrMovwSJa",
        "outputId": "57c569b3-fb72-4ba3-b86b-8214be0b4938",
        "colab": {
          "base_uri": "https://localhost:8080/",
          "height": 319
        }
      },
      "source": [
        "model.summary()"
      ],
      "execution_count": null,
      "outputs": [
        {
          "output_type": "stream",
          "text": [
            "Model: \"functional_3\"\n",
            "_________________________________________________________________\n",
            "Layer (type)                 Output Shape              Param #   \n",
            "=================================================================\n",
            "input_2 (InputLayer)         [(None, 25, 375)]         0         \n",
            "_________________________________________________________________\n",
            "lstm_1 (LSTM)                (None, 128)               258048    \n",
            "_________________________________________________________________\n",
            "dense_3 (Dense)              (None, 100)               12900     \n",
            "_________________________________________________________________\n",
            "dense_4 (Dense)              (None, 50)                5050      \n",
            "_________________________________________________________________\n",
            "dense_5 (Dense)              (None, 1)                 51        \n",
            "=================================================================\n",
            "Total params: 276,049\n",
            "Trainable params: 276,049\n",
            "Non-trainable params: 0\n",
            "_________________________________________________________________\n"
          ],
          "name": "stdout"
        }
      ]
    },
    {
      "cell_type": "markdown",
      "metadata": {
        "id": "VrnZVo7qMR1Z"
      },
      "source": [
        "***fit ot model***"
      ]
    },
    {
      "cell_type": "code",
      "metadata": {
        "id": "K_kpkgXLDSGO"
      },
      "source": [
        "checkpoint_filepath = '/content/BEST MODEL'"
      ],
      "execution_count": null,
      "outputs": []
    },
    {
      "cell_type": "code",
      "metadata": {
        "id": "FHjphNK0BN1z"
      },
      "source": [
        "model_checkpoint = tf.keras.callbacks.ModelCheckpoint('best_score', monitor='val_accuracy', mode='max', save_best_only=True)"
      ],
      "execution_count": null,
      "outputs": []
    },
    {
      "cell_type": "code",
      "metadata": {
        "id": "nbNqx5rhB7B_"
      },
      "source": [
        "history = model.fit(X_train_, y_train_, epochs=34, validation_split=0.2,callbacks=[model_checkpoint] )"
      ],
      "execution_count": null,
      "outputs": []
    },
    {
      "cell_type": "code",
      "metadata": {
        "id": "v1HqNl72B8dv"
      },
      "source": [
        "plt.figure(figsize=(20,10))\n",
        "plt.plot(history.history['loss'], label='loss')\n",
        "#plt.plot(history.history['val_loss'], label = 'val_loss')\n",
        "plt.xlabel('Epoch')\n",
        "plt.ylabel('loss')\n",
        "plt.legend(loc='lower right')"
      ],
      "execution_count": null,
      "outputs": []
    },
    {
      "cell_type": "code",
      "metadata": {
        "id": "1KM5PrA7SDWx"
      },
      "source": [
        "plt.figure(figsize=(20,10))\n",
        "plt.plot(history.history['val_loss'], label = 'val_loss')\n",
        "plt.xlabel('Epoch')\n",
        "plt.ylabel('val_loss')\n",
        "plt.legend(loc='lower right')"
      ],
      "execution_count": null,
      "outputs": []
    }
  ]
}